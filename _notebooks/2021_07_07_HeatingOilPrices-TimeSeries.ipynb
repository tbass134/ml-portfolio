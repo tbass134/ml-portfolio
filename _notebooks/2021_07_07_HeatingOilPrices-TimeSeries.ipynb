{
 "metadata": {
  "language_info": {
   "codemirror_mode": {
    "name": "ipython",
    "version": 3
   },
   "file_extension": ".py",
   "mimetype": "text/x-python",
   "name": "python",
   "nbconvert_exporter": "python",
   "pygments_lexer": "ipython3",
   "version": "3.6.13"
  },
  "orig_nbformat": 4,
  "kernelspec": {
   "name": "python3",
   "display_name": "Python 3.6.13 64-bit ('heating_oil_prices': conda)"
  },
  "interpreter": {
   "hash": "2db22509b983e05e6933bb10a2bd53b778926ab075312fb4eb227dd531dff296"
  }
 },
 "nbformat": 4,
 "nbformat_minor": 2,
 "cells": [
  {
   "source": [
    "# Predicting the price of Heating Oil using PyCaret\n",
    "In this notebook, we'll go over how to perform a time series forecasting on the price of heating oil.\n",
    "\n",
    "## Background\n",
    "In update New York, we are unable to get natural gas to service our home for heating. This is because the rock is mostly made of shale, which makes it tough to get pull natural gas. So we have to rely on oil for heat.\n",
    "\n",
    "As the price of gas goes up and down, the price of heating oil is the same. There are many companies that distribute oil and all of them have different prices. Also, these prices change between seasons. So, I wanted to build an application that predicts the price of oil, so that I know when is the best time to buy.\n",
    "\n",
    "## Data\n",
    "Before building the models, i needed to get data. I have been unable to find a dataset with the current price of oil, therefore I had to build my own. The website cheapestoil.com shows the price of oil for many companies in the northeast United States. The site shows the latest prices for these companies, but they do not show the previous prices. \n",
    "\n",
    "So in order to get the prices, I build a AWS lambda function that scrapes the price of oil daily. I used AWS CloudWatch events to run a lambda function every 12 hours, in order to fetch the prices for that time. This lambda extracted the last updated date, price and supplier, and save these results as JSON and save  to an S3 bucket. After the json data is saved, I have another lambda function, attached as a trigger, to read each json file, and save into DynamoDB.  Please see the GitHub repo on more detail on how I build these lambda functions. \n",
    "\n",
    "I started this project back in Dec 2020 in order to build up my dataset. The lambda function has been running for about 6 months, and I have a decent amount of data to work with. In order to expand my dataset, I was able to pull more data using The Wayback Machine on web.archive.org. The Wayback Machine stores a snapshot of many pages on the internet. It doesn't have every site, but it did have some snapshots from cheaptestoil.com. To get that data, I used https://github.com/hartator/wayback-machine-downloader to download the archive data. The archive only had 7 snapshots, between the dates of Aug 2020 and Oct 2021. \n",
    "\n",
    "In all, I have about 5k records of all the oil prices from the website\n",
    "\n",
    "## Fetching Saved Data\n",
    "I used DynamoDB to store the oil price data, and used Boto3 to fetch the data, which I then save to a CSV.\n"
   ],
   "cell_type": "markdown",
   "metadata": {}
  },
  {
   "cell_type": "code",
   "execution_count": 326,
   "metadata": {},
   "outputs": [],
   "source": [
    "import boto3\n",
    "from boto3.dynamodb.conditions import Key\n",
    "import pandas as pd\n",
    "dynamodb = boto3.resource('dynamodb')\n",
    "\n",
    "table = dynamodb.Table('heating_oil_prices')\n",
    "response = table.scan()\n",
    "df = pd.DataFrame(response[\"Items\"])\n",
    "df.to_csv(\"data.csv\")"
   ]
  },
  {
   "cell_type": "code",
   "execution_count": 327,
   "metadata": {},
   "outputs": [],
   "source": [
    "def get_data():\n",
    "    df = pd.read_csv(\"data.csv\", usecols=[\"last_updated\", \"price150\",\"price500\", \"price300\", \"supplier\", \"state\"])\n",
    "    df[\"last_updated\"] = pd.to_datetime(df[\"last_updated\"])\n",
    "    df = df.set_index(\"last_updated\")\n",
    "    df[\"state\"] = df[\"state\"].apply(lambda x: \"NewYork\" if str(x) == \"nan\" else x)\n",
    "    df = df.sort_index()\n",
    "    return df\n",
    "df = get_data()"
   ]
  },
  {
   "source": [
    "On Cheapestoil.com, the have the price of oil in gallons, but the price is slightly different for how many gallons you buy. If we get suppliers in the state of New York, we'll see the following"
   ],
   "cell_type": "markdown",
   "metadata": {}
  },
  {
   "cell_type": "code",
   "execution_count": 328,
   "metadata": {},
   "outputs": [
    {
     "output_type": "execute_result",
     "data": {
      "text/plain": [
       "price500          1.449\n",
       "price300          1.469\n",
       "price150          1.549\n",
       "supplier    Suffolk Oil\n",
       "state           NewYork\n",
       "Name: 2020-08-03 15:11:16, dtype: object"
      ]
     },
     "metadata": {},
     "execution_count": 328
    }
   ],
   "source": [
    "    state = \"NewYork\"\n",
    "    suppliers_by_state = df[ (df[\"state\"] == state)].dropna()\n",
    "    suppliers_by_state.iloc[1]\n"
   ]
  },
  {
   "source": [
    "The row above shows that the price for 500 gallons(`price500`) is $1.449 per gallon, 300 gallons(`price300`) is $1.69 and 150 gallons(`price150`) is $1.549"
   ],
   "cell_type": "markdown",
   "metadata": {}
  },
  {
   "source": [
    "Lets see how many suppliers we have for New York"
   ],
   "cell_type": "markdown",
   "metadata": {}
  },
  {
   "cell_type": "code",
   "execution_count": 329,
   "metadata": {},
   "outputs": [
    {
     "output_type": "execute_result",
     "data": {
      "text/plain": [
       "2708"
      ]
     },
     "metadata": {},
     "execution_count": 329
    }
   ],
   "source": [
    "suppliers_by_state[\"supplier\"].value_counts().sum()"
   ]
  },
  {
   "source": [
    "Since we have so many suppliers, a forecasr for the average price of oil for all the suppliers might be a better way to go, since the prices are simlar between every company"
   ],
   "cell_type": "markdown",
   "metadata": {}
  },
  {
   "cell_type": "code",
   "execution_count": 330,
   "metadata": {},
   "outputs": [],
   "source": [
    "df = df.reset_index()\n",
    "data = df[ df[\"state\"] == state].resample('d', on='last_updated').mean().dropna()\n",
    "data = data.reset_index()"
   ]
  },
  {
   "source": [
    "Here is the mean price of oil over all the suppliers in New York."
   ],
   "cell_type": "markdown",
   "metadata": {}
  },
  {
   "cell_type": "code",
   "execution_count": 331,
   "metadata": {},
   "outputs": [
    {
     "output_type": "execute_result",
     "data": {
      "text/plain": [
       "  last_updated  price500  price300  price150\n",
       "0   2020-08-03  1.672000  1.719400   1.76140\n",
       "1   2020-08-04  1.632429  1.625750   1.68075\n",
       "2   2020-10-29  1.852500  1.819455   1.85300\n",
       "3   2020-11-11  1.786250  1.759000   1.76900\n",
       "4   2020-11-12  1.420000  1.460000   1.54000"
      ],
      "text/html": "<div>\n<style scoped>\n    .dataframe tbody tr th:only-of-type {\n        vertical-align: middle;\n    }\n\n    .dataframe tbody tr th {\n        vertical-align: top;\n    }\n\n    .dataframe thead th {\n        text-align: right;\n    }\n</style>\n<table border=\"1\" class=\"dataframe\">\n  <thead>\n    <tr style=\"text-align: right;\">\n      <th></th>\n      <th>last_updated</th>\n      <th>price500</th>\n      <th>price300</th>\n      <th>price150</th>\n    </tr>\n  </thead>\n  <tbody>\n    <tr>\n      <th>0</th>\n      <td>2020-08-03</td>\n      <td>1.672000</td>\n      <td>1.719400</td>\n      <td>1.76140</td>\n    </tr>\n    <tr>\n      <th>1</th>\n      <td>2020-08-04</td>\n      <td>1.632429</td>\n      <td>1.625750</td>\n      <td>1.68075</td>\n    </tr>\n    <tr>\n      <th>2</th>\n      <td>2020-10-29</td>\n      <td>1.852500</td>\n      <td>1.819455</td>\n      <td>1.85300</td>\n    </tr>\n    <tr>\n      <th>3</th>\n      <td>2020-11-11</td>\n      <td>1.786250</td>\n      <td>1.759000</td>\n      <td>1.76900</td>\n    </tr>\n    <tr>\n      <th>4</th>\n      <td>2020-11-12</td>\n      <td>1.420000</td>\n      <td>1.460000</td>\n      <td>1.54000</td>\n    </tr>\n  </tbody>\n</table>\n</div>"
     },
     "metadata": {},
     "execution_count": 331
    }
   ],
   "source": [
    "data.head()"
   ]
  },
  {
   "source": [
    "For a quick check on our data, let's plot the price for 500 gallons"
   ],
   "cell_type": "markdown",
   "metadata": {}
  },
  {
   "cell_type": "code",
   "execution_count": 332,
   "metadata": {},
   "outputs": [
    {
     "output_type": "execute_result",
     "data": {
      "text/plain": [
       "<AxesSubplot:>"
      ]
     },
     "metadata": {},
     "execution_count": 332
    },
    {
     "output_type": "display_data",
     "data": {
      "text/plain": "<Figure size 432x288 with 1 Axes>",
      "image/svg+xml": "<?xml version=\"1.0\" encoding=\"utf-8\" standalone=\"no\"?>\n<!DOCTYPE svg PUBLIC \"-//W3C//DTD SVG 1.1//EN\"\n  \"http://www.w3.org/Graphics/SVG/1.1/DTD/svg11.dtd\">\n<!-- Created with matplotlib (https://matplotlib.org/) -->\n<svg height=\"248.518125pt\" version=\"1.1\" viewBox=\"0 0 372.103125 248.518125\" width=\"372.103125pt\" xmlns=\"http://www.w3.org/2000/svg\" xmlns:xlink=\"http://www.w3.org/1999/xlink\">\n <metadata>\n  <rdf:RDF xmlns:cc=\"http://creativecommons.org/ns#\" xmlns:dc=\"http://purl.org/dc/elements/1.1/\" xmlns:rdf=\"http://www.w3.org/1999/02/22-rdf-syntax-ns#\">\n   <cc:Work>\n    <dc:type rdf:resource=\"http://purl.org/dc/dcmitype/StillImage\"/>\n    <dc:date>2021-07-07T12:48:34.875376</dc:date>\n    <dc:format>image/svg+xml</dc:format>\n    <dc:creator>\n     <cc:Agent>\n      <dc:title>Matplotlib v3.3.4, https://matplotlib.org/</dc:title>\n     </cc:Agent>\n    </dc:creator>\n   </cc:Work>\n  </rdf:RDF>\n </metadata>\n <defs>\n  <style type=\"text/css\">*{stroke-linecap:butt;stroke-linejoin:round;}</style>\n </defs>\n <g id=\"figure_1\">\n  <g id=\"patch_1\">\n   <path d=\"M 0 248.518125 \nL 372.103125 248.518125 \nL 372.103125 0 \nL 0 0 \nz\n\" style=\"fill:none;\"/>\n  </g>\n  <g id=\"axes_1\">\n   <g id=\"patch_2\">\n    <path d=\"M 30.103125 224.64 \nL 364.903125 224.64 \nL 364.903125 7.2 \nL 30.103125 7.2 \nz\n\" style=\"fill:#ffffff;\"/>\n   </g>\n   <g id=\"matplotlib.axis_1\">\n    <g id=\"xtick_1\">\n     <g id=\"line2d_1\">\n      <defs>\n       <path d=\"M 0 0 \nL 0 3.5 \n\" id=\"m1cb378bfde\" style=\"stroke:#000000;stroke-width:0.8;\"/>\n      </defs>\n      <g>\n       <use style=\"stroke:#000000;stroke-width:0.8;\" x=\"45.321307\" xlink:href=\"#m1cb378bfde\" y=\"224.64\"/>\n      </g>\n     </g>\n     <g id=\"text_1\">\n      <!-- 0 -->\n      <g transform=\"translate(42.140057 239.238438)scale(0.1 -0.1)\">\n       <defs>\n        <path d=\"M 31.78125 66.40625 \nQ 24.171875 66.40625 20.328125 58.90625 \nQ 16.5 51.421875 16.5 36.375 \nQ 16.5 21.390625 20.328125 13.890625 \nQ 24.171875 6.390625 31.78125 6.390625 \nQ 39.453125 6.390625 43.28125 13.890625 \nQ 47.125 21.390625 47.125 36.375 \nQ 47.125 51.421875 43.28125 58.90625 \nQ 39.453125 66.40625 31.78125 66.40625 \nz\nM 31.78125 74.21875 \nQ 44.046875 74.21875 50.515625 64.515625 \nQ 56.984375 54.828125 56.984375 36.375 \nQ 56.984375 17.96875 50.515625 8.265625 \nQ 44.046875 -1.421875 31.78125 -1.421875 \nQ 19.53125 -1.421875 13.0625 8.265625 \nQ 6.59375 17.96875 6.59375 36.375 \nQ 6.59375 54.828125 13.0625 64.515625 \nQ 19.53125 74.21875 31.78125 74.21875 \nz\n\" id=\"DejaVuSans-48\"/>\n       </defs>\n       <use xlink:href=\"#DejaVuSans-48\"/>\n      </g>\n     </g>\n    </g>\n    <g id=\"xtick_2\">\n     <g id=\"line2d_2\">\n      <g>\n       <use style=\"stroke:#000000;stroke-width:0.8;\" x=\"96.04858\" xlink:href=\"#m1cb378bfde\" y=\"224.64\"/>\n      </g>\n     </g>\n     <g id=\"text_2\">\n      <!-- 10 -->\n      <g transform=\"translate(89.68608 239.238438)scale(0.1 -0.1)\">\n       <defs>\n        <path d=\"M 12.40625 8.296875 \nL 28.515625 8.296875 \nL 28.515625 63.921875 \nL 10.984375 60.40625 \nL 10.984375 69.390625 \nL 28.421875 72.90625 \nL 38.28125 72.90625 \nL 38.28125 8.296875 \nL 54.390625 8.296875 \nL 54.390625 0 \nL 12.40625 0 \nz\n\" id=\"DejaVuSans-49\"/>\n       </defs>\n       <use xlink:href=\"#DejaVuSans-49\"/>\n       <use x=\"63.623047\" xlink:href=\"#DejaVuSans-48\"/>\n      </g>\n     </g>\n    </g>\n    <g id=\"xtick_3\">\n     <g id=\"line2d_3\">\n      <g>\n       <use style=\"stroke:#000000;stroke-width:0.8;\" x=\"146.775852\" xlink:href=\"#m1cb378bfde\" y=\"224.64\"/>\n      </g>\n     </g>\n     <g id=\"text_3\">\n      <!-- 20 -->\n      <g transform=\"translate(140.413352 239.238438)scale(0.1 -0.1)\">\n       <defs>\n        <path d=\"M 19.1875 8.296875 \nL 53.609375 8.296875 \nL 53.609375 0 \nL 7.328125 0 \nL 7.328125 8.296875 \nQ 12.9375 14.109375 22.625 23.890625 \nQ 32.328125 33.6875 34.8125 36.53125 \nQ 39.546875 41.84375 41.421875 45.53125 \nQ 43.3125 49.21875 43.3125 52.78125 \nQ 43.3125 58.59375 39.234375 62.25 \nQ 35.15625 65.921875 28.609375 65.921875 \nQ 23.96875 65.921875 18.8125 64.3125 \nQ 13.671875 62.703125 7.8125 59.421875 \nL 7.8125 69.390625 \nQ 13.765625 71.78125 18.9375 73 \nQ 24.125 74.21875 28.421875 74.21875 \nQ 39.75 74.21875 46.484375 68.546875 \nQ 53.21875 62.890625 53.21875 53.421875 \nQ 53.21875 48.921875 51.53125 44.890625 \nQ 49.859375 40.875 45.40625 35.40625 \nQ 44.1875 33.984375 37.640625 27.21875 \nQ 31.109375 20.453125 19.1875 8.296875 \nz\n\" id=\"DejaVuSans-50\"/>\n       </defs>\n       <use xlink:href=\"#DejaVuSans-50\"/>\n       <use x=\"63.623047\" xlink:href=\"#DejaVuSans-48\"/>\n      </g>\n     </g>\n    </g>\n    <g id=\"xtick_4\">\n     <g id=\"line2d_4\">\n      <g>\n       <use style=\"stroke:#000000;stroke-width:0.8;\" x=\"197.503125\" xlink:href=\"#m1cb378bfde\" y=\"224.64\"/>\n      </g>\n     </g>\n     <g id=\"text_4\">\n      <!-- 30 -->\n      <g transform=\"translate(191.140625 239.238438)scale(0.1 -0.1)\">\n       <defs>\n        <path d=\"M 40.578125 39.3125 \nQ 47.65625 37.796875 51.625 33 \nQ 55.609375 28.21875 55.609375 21.1875 \nQ 55.609375 10.40625 48.1875 4.484375 \nQ 40.765625 -1.421875 27.09375 -1.421875 \nQ 22.515625 -1.421875 17.65625 -0.515625 \nQ 12.796875 0.390625 7.625 2.203125 \nL 7.625 11.71875 \nQ 11.71875 9.328125 16.59375 8.109375 \nQ 21.484375 6.890625 26.8125 6.890625 \nQ 36.078125 6.890625 40.9375 10.546875 \nQ 45.796875 14.203125 45.796875 21.1875 \nQ 45.796875 27.640625 41.28125 31.265625 \nQ 36.765625 34.90625 28.71875 34.90625 \nL 20.21875 34.90625 \nL 20.21875 43.015625 \nL 29.109375 43.015625 \nQ 36.375 43.015625 40.234375 45.921875 \nQ 44.09375 48.828125 44.09375 54.296875 \nQ 44.09375 59.90625 40.109375 62.90625 \nQ 36.140625 65.921875 28.71875 65.921875 \nQ 24.65625 65.921875 20.015625 65.03125 \nQ 15.375 64.15625 9.8125 62.3125 \nL 9.8125 71.09375 \nQ 15.4375 72.65625 20.34375 73.4375 \nQ 25.25 74.21875 29.59375 74.21875 \nQ 40.828125 74.21875 47.359375 69.109375 \nQ 53.90625 64.015625 53.90625 55.328125 \nQ 53.90625 49.265625 50.4375 45.09375 \nQ 46.96875 40.921875 40.578125 39.3125 \nz\n\" id=\"DejaVuSans-51\"/>\n       </defs>\n       <use xlink:href=\"#DejaVuSans-51\"/>\n       <use x=\"63.623047\" xlink:href=\"#DejaVuSans-48\"/>\n      </g>\n     </g>\n    </g>\n    <g id=\"xtick_5\">\n     <g id=\"line2d_5\">\n      <g>\n       <use style=\"stroke:#000000;stroke-width:0.8;\" x=\"248.230398\" xlink:href=\"#m1cb378bfde\" y=\"224.64\"/>\n      </g>\n     </g>\n     <g id=\"text_5\">\n      <!-- 40 -->\n      <g transform=\"translate(241.867898 239.238438)scale(0.1 -0.1)\">\n       <defs>\n        <path d=\"M 37.796875 64.3125 \nL 12.890625 25.390625 \nL 37.796875 25.390625 \nz\nM 35.203125 72.90625 \nL 47.609375 72.90625 \nL 47.609375 25.390625 \nL 58.015625 25.390625 \nL 58.015625 17.1875 \nL 47.609375 17.1875 \nL 47.609375 0 \nL 37.796875 0 \nL 37.796875 17.1875 \nL 4.890625 17.1875 \nL 4.890625 26.703125 \nz\n\" id=\"DejaVuSans-52\"/>\n       </defs>\n       <use xlink:href=\"#DejaVuSans-52\"/>\n       <use x=\"63.623047\" xlink:href=\"#DejaVuSans-48\"/>\n      </g>\n     </g>\n    </g>\n    <g id=\"xtick_6\">\n     <g id=\"line2d_6\">\n      <g>\n       <use style=\"stroke:#000000;stroke-width:0.8;\" x=\"298.95767\" xlink:href=\"#m1cb378bfde\" y=\"224.64\"/>\n      </g>\n     </g>\n     <g id=\"text_6\">\n      <!-- 50 -->\n      <g transform=\"translate(292.59517 239.238438)scale(0.1 -0.1)\">\n       <defs>\n        <path d=\"M 10.796875 72.90625 \nL 49.515625 72.90625 \nL 49.515625 64.59375 \nL 19.828125 64.59375 \nL 19.828125 46.734375 \nQ 21.96875 47.46875 24.109375 47.828125 \nQ 26.265625 48.1875 28.421875 48.1875 \nQ 40.625 48.1875 47.75 41.5 \nQ 54.890625 34.8125 54.890625 23.390625 \nQ 54.890625 11.625 47.5625 5.09375 \nQ 40.234375 -1.421875 26.90625 -1.421875 \nQ 22.3125 -1.421875 17.546875 -0.640625 \nQ 12.796875 0.140625 7.71875 1.703125 \nL 7.71875 11.625 \nQ 12.109375 9.234375 16.796875 8.0625 \nQ 21.484375 6.890625 26.703125 6.890625 \nQ 35.15625 6.890625 40.078125 11.328125 \nQ 45.015625 15.765625 45.015625 23.390625 \nQ 45.015625 31 40.078125 35.4375 \nQ 35.15625 39.890625 26.703125 39.890625 \nQ 22.75 39.890625 18.8125 39.015625 \nQ 14.890625 38.140625 10.796875 36.28125 \nz\n\" id=\"DejaVuSans-53\"/>\n       </defs>\n       <use xlink:href=\"#DejaVuSans-53\"/>\n       <use x=\"63.623047\" xlink:href=\"#DejaVuSans-48\"/>\n      </g>\n     </g>\n    </g>\n    <g id=\"xtick_7\">\n     <g id=\"line2d_7\">\n      <g>\n       <use style=\"stroke:#000000;stroke-width:0.8;\" x=\"349.684943\" xlink:href=\"#m1cb378bfde\" y=\"224.64\"/>\n      </g>\n     </g>\n     <g id=\"text_7\">\n      <!-- 60 -->\n      <g transform=\"translate(343.322443 239.238438)scale(0.1 -0.1)\">\n       <defs>\n        <path d=\"M 33.015625 40.375 \nQ 26.375 40.375 22.484375 35.828125 \nQ 18.609375 31.296875 18.609375 23.390625 \nQ 18.609375 15.53125 22.484375 10.953125 \nQ 26.375 6.390625 33.015625 6.390625 \nQ 39.65625 6.390625 43.53125 10.953125 \nQ 47.40625 15.53125 47.40625 23.390625 \nQ 47.40625 31.296875 43.53125 35.828125 \nQ 39.65625 40.375 33.015625 40.375 \nz\nM 52.59375 71.296875 \nL 52.59375 62.3125 \nQ 48.875 64.0625 45.09375 64.984375 \nQ 41.3125 65.921875 37.59375 65.921875 \nQ 27.828125 65.921875 22.671875 59.328125 \nQ 17.53125 52.734375 16.796875 39.40625 \nQ 19.671875 43.65625 24.015625 45.921875 \nQ 28.375 48.1875 33.59375 48.1875 \nQ 44.578125 48.1875 50.953125 41.515625 \nQ 57.328125 34.859375 57.328125 23.390625 \nQ 57.328125 12.15625 50.6875 5.359375 \nQ 44.046875 -1.421875 33.015625 -1.421875 \nQ 20.359375 -1.421875 13.671875 8.265625 \nQ 6.984375 17.96875 6.984375 36.375 \nQ 6.984375 53.65625 15.1875 63.9375 \nQ 23.390625 74.21875 37.203125 74.21875 \nQ 40.921875 74.21875 44.703125 73.484375 \nQ 48.484375 72.75 52.59375 71.296875 \nz\n\" id=\"DejaVuSans-54\"/>\n       </defs>\n       <use xlink:href=\"#DejaVuSans-54\"/>\n       <use x=\"63.623047\" xlink:href=\"#DejaVuSans-48\"/>\n      </g>\n     </g>\n    </g>\n   </g>\n   <g id=\"matplotlib.axis_2\">\n    <g id=\"ytick_1\">\n     <g id=\"line2d_8\">\n      <defs>\n       <path d=\"M 0 0 \nL -3.5 0 \n\" id=\"macf7dfb339\" style=\"stroke:#000000;stroke-width:0.8;\"/>\n      </defs>\n      <g>\n       <use style=\"stroke:#000000;stroke-width:0.8;\" x=\"30.103125\" xlink:href=\"#macf7dfb339\" y=\"218.01662\"/>\n      </g>\n     </g>\n     <g id=\"text_8\">\n      <!-- 1.4 -->\n      <g transform=\"translate(7.2 221.815839)scale(0.1 -0.1)\">\n       <defs>\n        <path d=\"M 10.6875 12.40625 \nL 21 12.40625 \nL 21 0 \nL 10.6875 0 \nz\n\" id=\"DejaVuSans-46\"/>\n       </defs>\n       <use xlink:href=\"#DejaVuSans-49\"/>\n       <use x=\"63.623047\" xlink:href=\"#DejaVuSans-46\"/>\n       <use x=\"95.410156\" xlink:href=\"#DejaVuSans-52\"/>\n      </g>\n     </g>\n    </g>\n    <g id=\"ytick_2\">\n     <g id=\"line2d_9\">\n      <g>\n       <use style=\"stroke:#000000;stroke-width:0.8;\" x=\"30.103125\" xlink:href=\"#macf7dfb339\" y=\"185.414055\"/>\n      </g>\n     </g>\n     <g id=\"text_9\">\n      <!-- 1.6 -->\n      <g transform=\"translate(7.2 189.213273)scale(0.1 -0.1)\">\n       <use xlink:href=\"#DejaVuSans-49\"/>\n       <use x=\"63.623047\" xlink:href=\"#DejaVuSans-46\"/>\n       <use x=\"95.410156\" xlink:href=\"#DejaVuSans-54\"/>\n      </g>\n     </g>\n    </g>\n    <g id=\"ytick_3\">\n     <g id=\"line2d_10\">\n      <g>\n       <use style=\"stroke:#000000;stroke-width:0.8;\" x=\"30.103125\" xlink:href=\"#macf7dfb339\" y=\"152.811489\"/>\n      </g>\n     </g>\n     <g id=\"text_10\">\n      <!-- 1.8 -->\n      <g transform=\"translate(7.2 156.610708)scale(0.1 -0.1)\">\n       <defs>\n        <path d=\"M 31.78125 34.625 \nQ 24.75 34.625 20.71875 30.859375 \nQ 16.703125 27.09375 16.703125 20.515625 \nQ 16.703125 13.921875 20.71875 10.15625 \nQ 24.75 6.390625 31.78125 6.390625 \nQ 38.8125 6.390625 42.859375 10.171875 \nQ 46.921875 13.96875 46.921875 20.515625 \nQ 46.921875 27.09375 42.890625 30.859375 \nQ 38.875 34.625 31.78125 34.625 \nz\nM 21.921875 38.8125 \nQ 15.578125 40.375 12.03125 44.71875 \nQ 8.5 49.078125 8.5 55.328125 \nQ 8.5 64.0625 14.71875 69.140625 \nQ 20.953125 74.21875 31.78125 74.21875 \nQ 42.671875 74.21875 48.875 69.140625 \nQ 55.078125 64.0625 55.078125 55.328125 \nQ 55.078125 49.078125 51.53125 44.71875 \nQ 48 40.375 41.703125 38.8125 \nQ 48.828125 37.15625 52.796875 32.3125 \nQ 56.78125 27.484375 56.78125 20.515625 \nQ 56.78125 9.90625 50.3125 4.234375 \nQ 43.84375 -1.421875 31.78125 -1.421875 \nQ 19.734375 -1.421875 13.25 4.234375 \nQ 6.78125 9.90625 6.78125 20.515625 \nQ 6.78125 27.484375 10.78125 32.3125 \nQ 14.796875 37.15625 21.921875 38.8125 \nz\nM 18.3125 54.390625 \nQ 18.3125 48.734375 21.84375 45.5625 \nQ 25.390625 42.390625 31.78125 42.390625 \nQ 38.140625 42.390625 41.71875 45.5625 \nQ 45.3125 48.734375 45.3125 54.390625 \nQ 45.3125 60.0625 41.71875 63.234375 \nQ 38.140625 66.40625 31.78125 66.40625 \nQ 25.390625 66.40625 21.84375 63.234375 \nQ 18.3125 60.0625 18.3125 54.390625 \nz\n\" id=\"DejaVuSans-56\"/>\n       </defs>\n       <use xlink:href=\"#DejaVuSans-49\"/>\n       <use x=\"63.623047\" xlink:href=\"#DejaVuSans-46\"/>\n       <use x=\"95.410156\" xlink:href=\"#DejaVuSans-56\"/>\n      </g>\n     </g>\n    </g>\n    <g id=\"ytick_4\">\n     <g id=\"line2d_11\">\n      <g>\n       <use style=\"stroke:#000000;stroke-width:0.8;\" x=\"30.103125\" xlink:href=\"#macf7dfb339\" y=\"120.208924\"/>\n      </g>\n     </g>\n     <g id=\"text_11\">\n      <!-- 2.0 -->\n      <g transform=\"translate(7.2 124.008142)scale(0.1 -0.1)\">\n       <use xlink:href=\"#DejaVuSans-50\"/>\n       <use x=\"63.623047\" xlink:href=\"#DejaVuSans-46\"/>\n       <use x=\"95.410156\" xlink:href=\"#DejaVuSans-48\"/>\n      </g>\n     </g>\n    </g>\n    <g id=\"ytick_5\">\n     <g id=\"line2d_12\">\n      <g>\n       <use style=\"stroke:#000000;stroke-width:0.8;\" x=\"30.103125\" xlink:href=\"#macf7dfb339\" y=\"87.606358\"/>\n      </g>\n     </g>\n     <g id=\"text_12\">\n      <!-- 2.2 -->\n      <g transform=\"translate(7.2 91.405577)scale(0.1 -0.1)\">\n       <use xlink:href=\"#DejaVuSans-50\"/>\n       <use x=\"63.623047\" xlink:href=\"#DejaVuSans-46\"/>\n       <use x=\"95.410156\" xlink:href=\"#DejaVuSans-50\"/>\n      </g>\n     </g>\n    </g>\n    <g id=\"ytick_6\">\n     <g id=\"line2d_13\">\n      <g>\n       <use style=\"stroke:#000000;stroke-width:0.8;\" x=\"30.103125\" xlink:href=\"#macf7dfb339\" y=\"55.003793\"/>\n      </g>\n     </g>\n     <g id=\"text_13\">\n      <!-- 2.4 -->\n      <g transform=\"translate(7.2 58.803011)scale(0.1 -0.1)\">\n       <use xlink:href=\"#DejaVuSans-50\"/>\n       <use x=\"63.623047\" xlink:href=\"#DejaVuSans-46\"/>\n       <use x=\"95.410156\" xlink:href=\"#DejaVuSans-52\"/>\n      </g>\n     </g>\n    </g>\n    <g id=\"ytick_7\">\n     <g id=\"line2d_14\">\n      <g>\n       <use style=\"stroke:#000000;stroke-width:0.8;\" x=\"30.103125\" xlink:href=\"#macf7dfb339\" y=\"22.401227\"/>\n      </g>\n     </g>\n     <g id=\"text_14\">\n      <!-- 2.6 -->\n      <g transform=\"translate(7.2 26.200446)scale(0.1 -0.1)\">\n       <use xlink:href=\"#DejaVuSans-50\"/>\n       <use x=\"63.623047\" xlink:href=\"#DejaVuSans-46\"/>\n       <use x=\"95.410156\" xlink:href=\"#DejaVuSans-54\"/>\n      </g>\n     </g>\n    </g>\n   </g>\n   <g id=\"line2d_15\">\n    <path clip-path=\"url(#p1850e4e4b2)\" d=\"M 45.321307 173.677131 \nL 50.394034 180.127782 \nL 55.466761 144.253316 \nL 60.539489 155.052916 \nL 65.612216 214.756364 \nL 70.684943 165.988359 \nL 75.75767 129.704421 \nL 80.830398 130.821621 \nL 85.903125 135.466924 \nL 90.975852 121.418735 \nL 96.04858 121.252732 \nL 101.121307 123.350864 \nL 106.194034 120.120736 \nL 111.266761 120.909275 \nL 116.339489 123.954892 \nL 121.412216 115.616459 \nL 126.484943 127.624921 \nL 131.55767 118.923875 \nL 136.630398 111.608488 \nL 141.703125 104.198556 \nL 146.775852 109.257426 \nL 151.84858 110.162913 \nL 156.921307 99.807454 \nL 161.994034 101.829836 \nL 167.066761 108.764065 \nL 172.139489 108.712976 \nL 177.212216 104.734145 \nL 182.284943 105.067909 \nL 187.35767 98.792563 \nL 192.430398 106.75847 \nL 197.503125 103.554892 \nL 202.575852 103.730329 \nL 207.64858 103.630233 \nL 212.721307 100.979931 \nL 217.794034 102.400604 \nL 222.866761 112.645129 \nL 227.939489 93.075279 \nL 233.012216 97.733173 \nL 238.084943 92.491727 \nL 243.15767 94.681115 \nL 248.230398 91.093021 \nL 253.303125 92.746883 \nL 258.375852 88.887582 \nL 263.44858 93.138163 \nL 268.521307 84.719454 \nL 273.594034 86.145394 \nL 278.666761 84.632143 \nL 283.739489 76.969771 \nL 288.812216 87.296007 \nL 293.884943 83.448049 \nL 298.95767 90.615575 \nL 304.030398 86.516587 \nL 309.103125 84.377995 \nL 314.175852 94.715308 \nL 319.24858 61.151705 \nL 324.321307 50.194914 \nL 329.394034 84.346102 \nL 334.466761 17.083636 \nL 339.539489 21.353288 \nL 344.612216 19.235156 \nL 349.684943 27.080654 \n\" style=\"fill:none;stroke:#1f77b4;stroke-linecap:square;stroke-width:1.5;\"/>\n   </g>\n   <g id=\"patch_3\">\n    <path d=\"M 30.103125 224.64 \nL 30.103125 7.2 \n\" style=\"fill:none;stroke:#000000;stroke-linecap:square;stroke-linejoin:miter;stroke-width:0.8;\"/>\n   </g>\n   <g id=\"patch_4\">\n    <path d=\"M 364.903125 224.64 \nL 364.903125 7.2 \n\" style=\"fill:none;stroke:#000000;stroke-linecap:square;stroke-linejoin:miter;stroke-width:0.8;\"/>\n   </g>\n   <g id=\"patch_5\">\n    <path d=\"M 30.103125 224.64 \nL 364.903125 224.64 \n\" style=\"fill:none;stroke:#000000;stroke-linecap:square;stroke-linejoin:miter;stroke-width:0.8;\"/>\n   </g>\n   <g id=\"patch_6\">\n    <path d=\"M 30.103125 7.2 \nL 364.903125 7.2 \n\" style=\"fill:none;stroke:#000000;stroke-linecap:square;stroke-linejoin:miter;stroke-width:0.8;\"/>\n   </g>\n  </g>\n </g>\n <defs>\n  <clipPath id=\"p1850e4e4b2\">\n   <rect height=\"217.44\" width=\"334.8\" x=\"30.103125\" y=\"7.2\"/>\n  </clipPath>\n </defs>\n</svg>\n",
      "image/png": "[encoded data removed]"
     },
     "metadata": {
      "needs_background": "light"
     }
    }
   ],
   "source": [
    "data[\"price500\"].plot()\n"
   ]
  },
  {
   "source": [
    "# Model"
   ],
   "cell_type": "markdown",
   "metadata": {}
  },
  {
   "source": [
    "Now, we can start building our model. We'll be using PyCaret to build our time series forecast. \n",
    "Before modeling, we need to update the dataset to remove the date and replace with numeric values. To do this, I've included fastai's `add_datepart` function to convert the data is series of features, split by year, month, day, day of week, and much more"
   ],
   "cell_type": "markdown",
   "metadata": {}
  },
  {
   "cell_type": "code",
   "execution_count": 333,
   "metadata": {},
   "outputs": [
    {
     "output_type": "execute_result",
     "data": {
      "text/plain": [
       "    price500  price300  price150  last_updatedYear  last_updatedMonth  \\\n",
       "0   1.672000  1.719400  1.761400              2020                  8   \n",
       "1   1.632429  1.625750  1.680750              2020                  8   \n",
       "2   1.852500  1.819455  1.853000              2020                 10   \n",
       "3   1.786250  1.759000  1.769000              2020                 11   \n",
       "4   1.420000  1.460000  1.540000              2020                 11   \n",
       "..       ...       ...       ...               ...                ...   \n",
       "56  2.220000  2.260000  2.340000              2021                  6   \n",
       "57  2.632621  2.626935  2.646290              2021                  7   \n",
       "58  2.606429  2.582633  2.611437              2021                  7   \n",
       "59  2.619422  2.609042  2.632478              2021                  7   \n",
       "60  2.571294  2.545455  2.575238              2021                  7   \n",
       "\n",
       "    last_updatedWeek  last_updatedDay  last_updatedDayofweek  \\\n",
       "0                 32                3                      0   \n",
       "1                 32                4                      1   \n",
       "2                 44               29                      3   \n",
       "3                 46               11                      2   \n",
       "4                 46               12                      3   \n",
       "..               ...              ...                    ...   \n",
       "56                26               28                      0   \n",
       "57                26                2                      4   \n",
       "58                27                5                      0   \n",
       "59                27                6                      1   \n",
       "60                27                7                      2   \n",
       "\n",
       "    last_updatedDayofyear  last_updatedIs_month_end  \\\n",
       "0                     216                     False   \n",
       "1                     217                     False   \n",
       "2                     303                     False   \n",
       "3                     316                     False   \n",
       "4                     317                     False   \n",
       "..                    ...                       ...   \n",
       "56                    179                     False   \n",
       "57                    183                     False   \n",
       "58                    186                     False   \n",
       "59                    187                     False   \n",
       "60                    188                     False   \n",
       "\n",
       "    last_updatedIs_month_start  last_updatedIs_quarter_end  \\\n",
       "0                        False                       False   \n",
       "1                        False                       False   \n",
       "2                        False                       False   \n",
       "3                        False                       False   \n",
       "4                        False                       False   \n",
       "..                         ...                         ...   \n",
       "56                       False                       False   \n",
       "57                       False                       False   \n",
       "58                       False                       False   \n",
       "59                       False                       False   \n",
       "60                       False                       False   \n",
       "\n",
       "    last_updatedIs_quarter_start  last_updatedIs_year_end  \\\n",
       "0                          False                    False   \n",
       "1                          False                    False   \n",
       "2                          False                    False   \n",
       "3                          False                    False   \n",
       "4                          False                    False   \n",
       "..                           ...                      ...   \n",
       "56                         False                    False   \n",
       "57                         False                    False   \n",
       "58                         False                    False   \n",
       "59                         False                    False   \n",
       "60                         False                    False   \n",
       "\n",
       "    last_updatedIs_year_start  last_updatedElapsed  \n",
       "0                       False         1.596413e+09  \n",
       "1                       False         1.596499e+09  \n",
       "2                       False         1.603930e+09  \n",
       "3                       False         1.605053e+09  \n",
       "4                       False         1.605139e+09  \n",
       "..                        ...                  ...  \n",
       "56                      False         1.624838e+09  \n",
       "57                      False         1.625184e+09  \n",
       "58                      False         1.625443e+09  \n",
       "59                      False         1.625530e+09  \n",
       "60                      False         1.625616e+09  \n",
       "\n",
       "[61 rows x 16 columns]"
      ],
      "text/html": "<div>\n<style scoped>\n    .dataframe tbody tr th:only-of-type {\n        vertical-align: middle;\n    }\n\n    .dataframe tbody tr th {\n        vertical-align: top;\n    }\n\n    .dataframe thead th {\n        text-align: right;\n    }\n</style>\n<table border=\"1\" class=\"dataframe\">\n  <thead>\n    <tr style=\"text-align: right;\">\n      <th></th>\n      <th>price500</th>\n      <th>price300</th>\n      <th>price150</th>\n      <th>last_updatedYear</th>\n      <th>last_updatedMonth</th>\n      <th>last_updatedWeek</th>\n      <th>last_updatedDay</th>\n      <th>last_updatedDayofweek</th>\n      <th>last_updatedDayofyear</th>\n      <th>last_updatedIs_month_end</th>\n      <th>last_updatedIs_month_start</th>\n      <th>last_updatedIs_quarter_end</th>\n      <th>last_updatedIs_quarter_start</th>\n      <th>last_updatedIs_year_end</th>\n      <th>last_updatedIs_year_start</th>\n      <th>last_updatedElapsed</th>\n    </tr>\n  </thead>\n  <tbody>\n    <tr>\n      <th>0</th>\n      <td>1.672000</td>\n      <td>1.719400</td>\n      <td>1.761400</td>\n      <td>2020</td>\n      <td>8</td>\n      <td>32</td>\n      <td>3</td>\n      <td>0</td>\n      <td>216</td>\n      <td>False</td>\n      <td>False</td>\n      <td>False</td>\n      <td>False</td>\n      <td>False</td>\n      <td>False</td>\n      <td>1.596413e+09</td>\n    </tr>\n    <tr>\n      <th>1</th>\n      <td>1.632429</td>\n      <td>1.625750</td>\n      <td>1.680750</td>\n      <td>2020</td>\n      <td>8</td>\n      <td>32</td>\n      <td>4</td>\n      <td>1</td>\n      <td>217</td>\n      <td>False</td>\n      <td>False</td>\n      <td>False</td>\n      <td>False</td>\n      <td>False</td>\n      <td>False</td>\n      <td>1.596499e+09</td>\n    </tr>\n    <tr>\n      <th>2</th>\n      <td>1.852500</td>\n      <td>1.819455</td>\n      <td>1.853000</td>\n      <td>2020</td>\n      <td>10</td>\n      <td>44</td>\n      <td>29</td>\n      <td>3</td>\n      <td>303</td>\n      <td>False</td>\n      <td>False</td>\n      <td>False</td>\n      <td>False</td>\n      <td>False</td>\n      <td>False</td>\n      <td>1.603930e+09</td>\n    </tr>\n    <tr>\n      <th>3</th>\n      <td>1.786250</td>\n      <td>1.759000</td>\n      <td>1.769000</td>\n      <td>2020</td>\n      <td>11</td>\n      <td>46</td>\n      <td>11</td>\n      <td>2</td>\n      <td>316</td>\n      <td>False</td>\n      <td>False</td>\n      <td>False</td>\n      <td>False</td>\n      <td>False</td>\n      <td>False</td>\n      <td>1.605053e+09</td>\n    </tr>\n    <tr>\n      <th>4</th>\n      <td>1.420000</td>\n      <td>1.460000</td>\n      <td>1.540000</td>\n      <td>2020</td>\n      <td>11</td>\n      <td>46</td>\n      <td>12</td>\n      <td>3</td>\n      <td>317</td>\n      <td>False</td>\n      <td>False</td>\n      <td>False</td>\n      <td>False</td>\n      <td>False</td>\n      <td>False</td>\n      <td>1.605139e+09</td>\n    </tr>\n    <tr>\n      <th>...</th>\n      <td>...</td>\n      <td>...</td>\n      <td>...</td>\n      <td>...</td>\n      <td>...</td>\n      <td>...</td>\n      <td>...</td>\n      <td>...</td>\n      <td>...</td>\n      <td>...</td>\n      <td>...</td>\n      <td>...</td>\n      <td>...</td>\n      <td>...</td>\n      <td>...</td>\n      <td>...</td>\n    </tr>\n    <tr>\n      <th>56</th>\n      <td>2.220000</td>\n      <td>2.260000</td>\n      <td>2.340000</td>\n      <td>2021</td>\n      <td>6</td>\n      <td>26</td>\n      <td>28</td>\n      <td>0</td>\n      <td>179</td>\n      <td>False</td>\n      <td>False</td>\n      <td>False</td>\n      <td>False</td>\n      <td>False</td>\n      <td>False</td>\n      <td>1.624838e+09</td>\n    </tr>\n    <tr>\n      <th>57</th>\n      <td>2.632621</td>\n      <td>2.626935</td>\n      <td>2.646290</td>\n      <td>2021</td>\n      <td>7</td>\n      <td>26</td>\n      <td>2</td>\n      <td>4</td>\n      <td>183</td>\n      <td>False</td>\n      <td>False</td>\n      <td>False</td>\n      <td>False</td>\n      <td>False</td>\n      <td>False</td>\n      <td>1.625184e+09</td>\n    </tr>\n    <tr>\n      <th>58</th>\n      <td>2.606429</td>\n      <td>2.582633</td>\n      <td>2.611437</td>\n      <td>2021</td>\n      <td>7</td>\n      <td>27</td>\n      <td>5</td>\n      <td>0</td>\n      <td>186</td>\n      <td>False</td>\n      <td>False</td>\n      <td>False</td>\n      <td>False</td>\n      <td>False</td>\n      <td>False</td>\n      <td>1.625443e+09</td>\n    </tr>\n    <tr>\n      <th>59</th>\n      <td>2.619422</td>\n      <td>2.609042</td>\n      <td>2.632478</td>\n      <td>2021</td>\n      <td>7</td>\n      <td>27</td>\n      <td>6</td>\n      <td>1</td>\n      <td>187</td>\n      <td>False</td>\n      <td>False</td>\n      <td>False</td>\n      <td>False</td>\n      <td>False</td>\n      <td>False</td>\n      <td>1.625530e+09</td>\n    </tr>\n    <tr>\n      <th>60</th>\n      <td>2.571294</td>\n      <td>2.545455</td>\n      <td>2.575238</td>\n      <td>2021</td>\n      <td>7</td>\n      <td>27</td>\n      <td>7</td>\n      <td>2</td>\n      <td>188</td>\n      <td>False</td>\n      <td>False</td>\n      <td>False</td>\n      <td>False</td>\n      <td>False</td>\n      <td>False</td>\n      <td>1.625616e+09</td>\n    </tr>\n  </tbody>\n</table>\n<p>61 rows × 16 columns</p>\n</div>"
     },
     "metadata": {},
     "execution_count": 333
    }
   ],
   "source": [
    "from fastai.tabular.all import *\n",
    "add_datepart(data, field_name=\"last_updated\")"
   ]
  },
  {
   "source": [
    "The `add_datepart` function generates lots of feature for the date, but we don't need to use all of them. For this model, we'll use `last_updatedYear`,  `last_updatedMonth` and `last_updatedDay`. In future models, we can try to use other features."
   ],
   "cell_type": "markdown",
   "metadata": {}
  },
  {
   "cell_type": "code",
   "execution_count": 334,
   "metadata": {},
   "outputs": [],
   "source": [
    "data = data[['price500', 'last_updatedYear', 'last_updatedMonth', 'last_updatedDay']]"
   ]
  },
  {
   "cell_type": "code",
   "execution_count": 335,
   "metadata": {},
   "outputs": [
    {
     "output_type": "execute_result",
     "data": {
      "text/plain": [
       "((43, 4), (18, 4))"
      ]
     },
     "metadata": {},
     "execution_count": 335
    }
   ],
   "source": [
    "mask = round(len(data) * 0.7)\n",
    "train = data[:mask]\n",
    "test = data[mask:]\n",
    "train.shape, test.shape"
   ]
  },
  {
   "source": [
    "After we split the data into a train, test set, we then must initalize the regression setup in PyCaret. This includes suppling the dataset, the feature we are predicting on (`price500`) and the other features to use(`last_updatedYear`,`last_updatedMonth` and `last_updatedDay`)"
   ],
   "cell_type": "markdown",
   "metadata": {}
  },
  {
   "cell_type": "code",
   "execution_count": 336,
   "metadata": {},
   "outputs": [
    {
     "output_type": "display_data",
     "data": {
      "text/plain": "<pandas.io.formats.style.Styler at 0x7f9e73fd46d8>",
      "text/html": "<style  type=\"text/css\" >\n#T_31a3a30c_df43_11eb_abe1_acde48001122row55_col1{\n            background-color:  lightgreen;\n        }</style><table id=\"T_31a3a30c_df43_11eb_abe1_acde48001122\" ><thead>    <tr>        <th class=\"blank level0\" ></th>        <th class=\"col_heading level0 col0\" >Description</th>        <th class=\"col_heading level0 col1\" >Value</th>    </tr></thead><tbody>\n                <tr>\n                        <th id=\"T_31a3a30c_df43_11eb_abe1_acde48001122level0_row0\" class=\"row_heading level0 row0\" >0</th>\n                        <td id=\"T_31a3a30c_df43_11eb_abe1_acde48001122row0_col0\" class=\"data row0 col0\" >session_id</td>\n                        <td id=\"T_31a3a30c_df43_11eb_abe1_acde48001122row0_col1\" class=\"data row0 col1\" >42</td>\n            </tr>\n            <tr>\n                        <th id=\"T_31a3a30c_df43_11eb_abe1_acde48001122level0_row1\" class=\"row_heading level0 row1\" >1</th>\n                        <td id=\"T_31a3a30c_df43_11eb_abe1_acde48001122row1_col0\" class=\"data row1 col0\" >Target</td>\n                        <td id=\"T_31a3a30c_df43_11eb_abe1_acde48001122row1_col1\" class=\"data row1 col1\" >price500</td>\n            </tr>\n            <tr>\n                        <th id=\"T_31a3a30c_df43_11eb_abe1_acde48001122level0_row2\" class=\"row_heading level0 row2\" >2</th>\n                        <td id=\"T_31a3a30c_df43_11eb_abe1_acde48001122row2_col0\" class=\"data row2 col0\" >Original Data</td>\n                        <td id=\"T_31a3a30c_df43_11eb_abe1_acde48001122row2_col1\" class=\"data row2 col1\" >(43, 4)</td>\n            </tr>\n            <tr>\n                        <th id=\"T_31a3a30c_df43_11eb_abe1_acde48001122level0_row3\" class=\"row_heading level0 row3\" >3</th>\n                        <td id=\"T_31a3a30c_df43_11eb_abe1_acde48001122row3_col0\" class=\"data row3 col0\" >Missing Values</td>\n                        <td id=\"T_31a3a30c_df43_11eb_abe1_acde48001122row3_col1\" class=\"data row3 col1\" >False</td>\n            </tr>\n            <tr>\n                        <th id=\"T_31a3a30c_df43_11eb_abe1_acde48001122level0_row4\" class=\"row_heading level0 row4\" >4</th>\n                        <td id=\"T_31a3a30c_df43_11eb_abe1_acde48001122row4_col0\" class=\"data row4 col0\" >Numeric Features</td>\n                        <td id=\"T_31a3a30c_df43_11eb_abe1_acde48001122row4_col1\" class=\"data row4 col1\" >3</td>\n            </tr>\n            <tr>\n                        <th id=\"T_31a3a30c_df43_11eb_abe1_acde48001122level0_row5\" class=\"row_heading level0 row5\" >5</th>\n                        <td id=\"T_31a3a30c_df43_11eb_abe1_acde48001122row5_col0\" class=\"data row5 col0\" >Categorical Features</td>\n                        <td id=\"T_31a3a30c_df43_11eb_abe1_acde48001122row5_col1\" class=\"data row5 col1\" >0</td>\n            </tr>\n            <tr>\n                        <th id=\"T_31a3a30c_df43_11eb_abe1_acde48001122level0_row6\" class=\"row_heading level0 row6\" >6</th>\n                        <td id=\"T_31a3a30c_df43_11eb_abe1_acde48001122row6_col0\" class=\"data row6 col0\" >Ordinal Features</td>\n                        <td id=\"T_31a3a30c_df43_11eb_abe1_acde48001122row6_col1\" class=\"data row6 col1\" >False</td>\n            </tr>\n            <tr>\n                        <th id=\"T_31a3a30c_df43_11eb_abe1_acde48001122level0_row7\" class=\"row_heading level0 row7\" >7</th>\n                        <td id=\"T_31a3a30c_df43_11eb_abe1_acde48001122row7_col0\" class=\"data row7 col0\" >High Cardinality Features</td>\n                        <td id=\"T_31a3a30c_df43_11eb_abe1_acde48001122row7_col1\" class=\"data row7 col1\" >False</td>\n            </tr>\n            <tr>\n                        <th id=\"T_31a3a30c_df43_11eb_abe1_acde48001122level0_row8\" class=\"row_heading level0 row8\" >8</th>\n                        <td id=\"T_31a3a30c_df43_11eb_abe1_acde48001122row8_col0\" class=\"data row8 col0\" >High Cardinality Method</td>\n                        <td id=\"T_31a3a30c_df43_11eb_abe1_acde48001122row8_col1\" class=\"data row8 col1\" >None</td>\n            </tr>\n            <tr>\n                        <th id=\"T_31a3a30c_df43_11eb_abe1_acde48001122level0_row9\" class=\"row_heading level0 row9\" >9</th>\n                        <td id=\"T_31a3a30c_df43_11eb_abe1_acde48001122row9_col0\" class=\"data row9 col0\" >Transformed Train Set</td>\n                        <td id=\"T_31a3a30c_df43_11eb_abe1_acde48001122row9_col1\" class=\"data row9 col1\" >(43, 3)</td>\n            </tr>\n            <tr>\n                        <th id=\"T_31a3a30c_df43_11eb_abe1_acde48001122level0_row10\" class=\"row_heading level0 row10\" >10</th>\n                        <td id=\"T_31a3a30c_df43_11eb_abe1_acde48001122row10_col0\" class=\"data row10 col0\" >Transformed Test Set</td>\n                        <td id=\"T_31a3a30c_df43_11eb_abe1_acde48001122row10_col1\" class=\"data row10 col1\" >(18, 3)</td>\n            </tr>\n            <tr>\n                        <th id=\"T_31a3a30c_df43_11eb_abe1_acde48001122level0_row11\" class=\"row_heading level0 row11\" >11</th>\n                        <td id=\"T_31a3a30c_df43_11eb_abe1_acde48001122row11_col0\" class=\"data row11 col0\" >Shuffle Train-Test</td>\n                        <td id=\"T_31a3a30c_df43_11eb_abe1_acde48001122row11_col1\" class=\"data row11 col1\" >True</td>\n            </tr>\n            <tr>\n                        <th id=\"T_31a3a30c_df43_11eb_abe1_acde48001122level0_row12\" class=\"row_heading level0 row12\" >12</th>\n                        <td id=\"T_31a3a30c_df43_11eb_abe1_acde48001122row12_col0\" class=\"data row12 col0\" >Stratify Train-Test</td>\n                        <td id=\"T_31a3a30c_df43_11eb_abe1_acde48001122row12_col1\" class=\"data row12 col1\" >False</td>\n            </tr>\n            <tr>\n                        <th id=\"T_31a3a30c_df43_11eb_abe1_acde48001122level0_row13\" class=\"row_heading level0 row13\" >13</th>\n                        <td id=\"T_31a3a30c_df43_11eb_abe1_acde48001122row13_col0\" class=\"data row13 col0\" >Fold Generator</td>\n                        <td id=\"T_31a3a30c_df43_11eb_abe1_acde48001122row13_col1\" class=\"data row13 col1\" >TimeSeriesSplit</td>\n            </tr>\n            <tr>\n                        <th id=\"T_31a3a30c_df43_11eb_abe1_acde48001122level0_row14\" class=\"row_heading level0 row14\" >14</th>\n                        <td id=\"T_31a3a30c_df43_11eb_abe1_acde48001122row14_col0\" class=\"data row14 col0\" >Fold Number</td>\n                        <td id=\"T_31a3a30c_df43_11eb_abe1_acde48001122row14_col1\" class=\"data row14 col1\" >3</td>\n            </tr>\n            <tr>\n                        <th id=\"T_31a3a30c_df43_11eb_abe1_acde48001122level0_row15\" class=\"row_heading level0 row15\" >15</th>\n                        <td id=\"T_31a3a30c_df43_11eb_abe1_acde48001122row15_col0\" class=\"data row15 col0\" >CPU Jobs</td>\n                        <td id=\"T_31a3a30c_df43_11eb_abe1_acde48001122row15_col1\" class=\"data row15 col1\" >-1</td>\n            </tr>\n            <tr>\n                        <th id=\"T_31a3a30c_df43_11eb_abe1_acde48001122level0_row16\" class=\"row_heading level0 row16\" >16</th>\n                        <td id=\"T_31a3a30c_df43_11eb_abe1_acde48001122row16_col0\" class=\"data row16 col0\" >Use GPU</td>\n                        <td id=\"T_31a3a30c_df43_11eb_abe1_acde48001122row16_col1\" class=\"data row16 col1\" >False</td>\n            </tr>\n            <tr>\n                        <th id=\"T_31a3a30c_df43_11eb_abe1_acde48001122level0_row17\" class=\"row_heading level0 row17\" >17</th>\n                        <td id=\"T_31a3a30c_df43_11eb_abe1_acde48001122row17_col0\" class=\"data row17 col0\" >Log Experiment</td>\n                        <td id=\"T_31a3a30c_df43_11eb_abe1_acde48001122row17_col1\" class=\"data row17 col1\" >False</td>\n            </tr>\n            <tr>\n                        <th id=\"T_31a3a30c_df43_11eb_abe1_acde48001122level0_row18\" class=\"row_heading level0 row18\" >18</th>\n                        <td id=\"T_31a3a30c_df43_11eb_abe1_acde48001122row18_col0\" class=\"data row18 col0\" >Experiment Name</td>\n                        <td id=\"T_31a3a30c_df43_11eb_abe1_acde48001122row18_col1\" class=\"data row18 col1\" >reg-default-name</td>\n            </tr>\n            <tr>\n                        <th id=\"T_31a3a30c_df43_11eb_abe1_acde48001122level0_row19\" class=\"row_heading level0 row19\" >19</th>\n                        <td id=\"T_31a3a30c_df43_11eb_abe1_acde48001122row19_col0\" class=\"data row19 col0\" >USI</td>\n                        <td id=\"T_31a3a30c_df43_11eb_abe1_acde48001122row19_col1\" class=\"data row19 col1\" >7f49</td>\n            </tr>\n            <tr>\n                        <th id=\"T_31a3a30c_df43_11eb_abe1_acde48001122level0_row20\" class=\"row_heading level0 row20\" >20</th>\n                        <td id=\"T_31a3a30c_df43_11eb_abe1_acde48001122row20_col0\" class=\"data row20 col0\" >Imputation Type</td>\n                        <td id=\"T_31a3a30c_df43_11eb_abe1_acde48001122row20_col1\" class=\"data row20 col1\" >simple</td>\n            </tr>\n            <tr>\n                        <th id=\"T_31a3a30c_df43_11eb_abe1_acde48001122level0_row21\" class=\"row_heading level0 row21\" >21</th>\n                        <td id=\"T_31a3a30c_df43_11eb_abe1_acde48001122row21_col0\" class=\"data row21 col0\" >Iterative Imputation Iteration</td>\n                        <td id=\"T_31a3a30c_df43_11eb_abe1_acde48001122row21_col1\" class=\"data row21 col1\" >None</td>\n            </tr>\n            <tr>\n                        <th id=\"T_31a3a30c_df43_11eb_abe1_acde48001122level0_row22\" class=\"row_heading level0 row22\" >22</th>\n                        <td id=\"T_31a3a30c_df43_11eb_abe1_acde48001122row22_col0\" class=\"data row22 col0\" >Numeric Imputer</td>\n                        <td id=\"T_31a3a30c_df43_11eb_abe1_acde48001122row22_col1\" class=\"data row22 col1\" >mean</td>\n            </tr>\n            <tr>\n                        <th id=\"T_31a3a30c_df43_11eb_abe1_acde48001122level0_row23\" class=\"row_heading level0 row23\" >23</th>\n                        <td id=\"T_31a3a30c_df43_11eb_abe1_acde48001122row23_col0\" class=\"data row23 col0\" >Iterative Imputation Numeric Model</td>\n                        <td id=\"T_31a3a30c_df43_11eb_abe1_acde48001122row23_col1\" class=\"data row23 col1\" >None</td>\n            </tr>\n            <tr>\n                        <th id=\"T_31a3a30c_df43_11eb_abe1_acde48001122level0_row24\" class=\"row_heading level0 row24\" >24</th>\n                        <td id=\"T_31a3a30c_df43_11eb_abe1_acde48001122row24_col0\" class=\"data row24 col0\" >Categorical Imputer</td>\n                        <td id=\"T_31a3a30c_df43_11eb_abe1_acde48001122row24_col1\" class=\"data row24 col1\" >constant</td>\n            </tr>\n            <tr>\n                        <th id=\"T_31a3a30c_df43_11eb_abe1_acde48001122level0_row25\" class=\"row_heading level0 row25\" >25</th>\n                        <td id=\"T_31a3a30c_df43_11eb_abe1_acde48001122row25_col0\" class=\"data row25 col0\" >Iterative Imputation Categorical Model</td>\n                        <td id=\"T_31a3a30c_df43_11eb_abe1_acde48001122row25_col1\" class=\"data row25 col1\" >None</td>\n            </tr>\n            <tr>\n                        <th id=\"T_31a3a30c_df43_11eb_abe1_acde48001122level0_row26\" class=\"row_heading level0 row26\" >26</th>\n                        <td id=\"T_31a3a30c_df43_11eb_abe1_acde48001122row26_col0\" class=\"data row26 col0\" >Unknown Categoricals Handling</td>\n                        <td id=\"T_31a3a30c_df43_11eb_abe1_acde48001122row26_col1\" class=\"data row26 col1\" >least_frequent</td>\n            </tr>\n            <tr>\n                        <th id=\"T_31a3a30c_df43_11eb_abe1_acde48001122level0_row27\" class=\"row_heading level0 row27\" >27</th>\n                        <td id=\"T_31a3a30c_df43_11eb_abe1_acde48001122row27_col0\" class=\"data row27 col0\" >Normalize</td>\n                        <td id=\"T_31a3a30c_df43_11eb_abe1_acde48001122row27_col1\" class=\"data row27 col1\" >False</td>\n            </tr>\n            <tr>\n                        <th id=\"T_31a3a30c_df43_11eb_abe1_acde48001122level0_row28\" class=\"row_heading level0 row28\" >28</th>\n                        <td id=\"T_31a3a30c_df43_11eb_abe1_acde48001122row28_col0\" class=\"data row28 col0\" >Normalize Method</td>\n                        <td id=\"T_31a3a30c_df43_11eb_abe1_acde48001122row28_col1\" class=\"data row28 col1\" >None</td>\n            </tr>\n            <tr>\n                        <th id=\"T_31a3a30c_df43_11eb_abe1_acde48001122level0_row29\" class=\"row_heading level0 row29\" >29</th>\n                        <td id=\"T_31a3a30c_df43_11eb_abe1_acde48001122row29_col0\" class=\"data row29 col0\" >Transformation</td>\n                        <td id=\"T_31a3a30c_df43_11eb_abe1_acde48001122row29_col1\" class=\"data row29 col1\" >False</td>\n            </tr>\n            <tr>\n                        <th id=\"T_31a3a30c_df43_11eb_abe1_acde48001122level0_row30\" class=\"row_heading level0 row30\" >30</th>\n                        <td id=\"T_31a3a30c_df43_11eb_abe1_acde48001122row30_col0\" class=\"data row30 col0\" >Transformation Method</td>\n                        <td id=\"T_31a3a30c_df43_11eb_abe1_acde48001122row30_col1\" class=\"data row30 col1\" >None</td>\n            </tr>\n            <tr>\n                        <th id=\"T_31a3a30c_df43_11eb_abe1_acde48001122level0_row31\" class=\"row_heading level0 row31\" >31</th>\n                        <td id=\"T_31a3a30c_df43_11eb_abe1_acde48001122row31_col0\" class=\"data row31 col0\" >PCA</td>\n                        <td id=\"T_31a3a30c_df43_11eb_abe1_acde48001122row31_col1\" class=\"data row31 col1\" >False</td>\n            </tr>\n            <tr>\n                        <th id=\"T_31a3a30c_df43_11eb_abe1_acde48001122level0_row32\" class=\"row_heading level0 row32\" >32</th>\n                        <td id=\"T_31a3a30c_df43_11eb_abe1_acde48001122row32_col0\" class=\"data row32 col0\" >PCA Method</td>\n                        <td id=\"T_31a3a30c_df43_11eb_abe1_acde48001122row32_col1\" class=\"data row32 col1\" >None</td>\n            </tr>\n            <tr>\n                        <th id=\"T_31a3a30c_df43_11eb_abe1_acde48001122level0_row33\" class=\"row_heading level0 row33\" >33</th>\n                        <td id=\"T_31a3a30c_df43_11eb_abe1_acde48001122row33_col0\" class=\"data row33 col0\" >PCA Components</td>\n                        <td id=\"T_31a3a30c_df43_11eb_abe1_acde48001122row33_col1\" class=\"data row33 col1\" >None</td>\n            </tr>\n            <tr>\n                        <th id=\"T_31a3a30c_df43_11eb_abe1_acde48001122level0_row34\" class=\"row_heading level0 row34\" >34</th>\n                        <td id=\"T_31a3a30c_df43_11eb_abe1_acde48001122row34_col0\" class=\"data row34 col0\" >Ignore Low Variance</td>\n                        <td id=\"T_31a3a30c_df43_11eb_abe1_acde48001122row34_col1\" class=\"data row34 col1\" >False</td>\n            </tr>\n            <tr>\n                        <th id=\"T_31a3a30c_df43_11eb_abe1_acde48001122level0_row35\" class=\"row_heading level0 row35\" >35</th>\n                        <td id=\"T_31a3a30c_df43_11eb_abe1_acde48001122row35_col0\" class=\"data row35 col0\" >Combine Rare Levels</td>\n                        <td id=\"T_31a3a30c_df43_11eb_abe1_acde48001122row35_col1\" class=\"data row35 col1\" >False</td>\n            </tr>\n            <tr>\n                        <th id=\"T_31a3a30c_df43_11eb_abe1_acde48001122level0_row36\" class=\"row_heading level0 row36\" >36</th>\n                        <td id=\"T_31a3a30c_df43_11eb_abe1_acde48001122row36_col0\" class=\"data row36 col0\" >Rare Level Threshold</td>\n                        <td id=\"T_31a3a30c_df43_11eb_abe1_acde48001122row36_col1\" class=\"data row36 col1\" >None</td>\n            </tr>\n            <tr>\n                        <th id=\"T_31a3a30c_df43_11eb_abe1_acde48001122level0_row37\" class=\"row_heading level0 row37\" >37</th>\n                        <td id=\"T_31a3a30c_df43_11eb_abe1_acde48001122row37_col0\" class=\"data row37 col0\" >Numeric Binning</td>\n                        <td id=\"T_31a3a30c_df43_11eb_abe1_acde48001122row37_col1\" class=\"data row37 col1\" >False</td>\n            </tr>\n            <tr>\n                        <th id=\"T_31a3a30c_df43_11eb_abe1_acde48001122level0_row38\" class=\"row_heading level0 row38\" >38</th>\n                        <td id=\"T_31a3a30c_df43_11eb_abe1_acde48001122row38_col0\" class=\"data row38 col0\" >Remove Outliers</td>\n                        <td id=\"T_31a3a30c_df43_11eb_abe1_acde48001122row38_col1\" class=\"data row38 col1\" >False</td>\n            </tr>\n            <tr>\n                        <th id=\"T_31a3a30c_df43_11eb_abe1_acde48001122level0_row39\" class=\"row_heading level0 row39\" >39</th>\n                        <td id=\"T_31a3a30c_df43_11eb_abe1_acde48001122row39_col0\" class=\"data row39 col0\" >Outliers Threshold</td>\n                        <td id=\"T_31a3a30c_df43_11eb_abe1_acde48001122row39_col1\" class=\"data row39 col1\" >None</td>\n            </tr>\n            <tr>\n                        <th id=\"T_31a3a30c_df43_11eb_abe1_acde48001122level0_row40\" class=\"row_heading level0 row40\" >40</th>\n                        <td id=\"T_31a3a30c_df43_11eb_abe1_acde48001122row40_col0\" class=\"data row40 col0\" >Remove Multicollinearity</td>\n                        <td id=\"T_31a3a30c_df43_11eb_abe1_acde48001122row40_col1\" class=\"data row40 col1\" >False</td>\n            </tr>\n            <tr>\n                        <th id=\"T_31a3a30c_df43_11eb_abe1_acde48001122level0_row41\" class=\"row_heading level0 row41\" >41</th>\n                        <td id=\"T_31a3a30c_df43_11eb_abe1_acde48001122row41_col0\" class=\"data row41 col0\" >Multicollinearity Threshold</td>\n                        <td id=\"T_31a3a30c_df43_11eb_abe1_acde48001122row41_col1\" class=\"data row41 col1\" >None</td>\n            </tr>\n            <tr>\n                        <th id=\"T_31a3a30c_df43_11eb_abe1_acde48001122level0_row42\" class=\"row_heading level0 row42\" >42</th>\n                        <td id=\"T_31a3a30c_df43_11eb_abe1_acde48001122row42_col0\" class=\"data row42 col0\" >Clustering</td>\n                        <td id=\"T_31a3a30c_df43_11eb_abe1_acde48001122row42_col1\" class=\"data row42 col1\" >False</td>\n            </tr>\n            <tr>\n                        <th id=\"T_31a3a30c_df43_11eb_abe1_acde48001122level0_row43\" class=\"row_heading level0 row43\" >43</th>\n                        <td id=\"T_31a3a30c_df43_11eb_abe1_acde48001122row43_col0\" class=\"data row43 col0\" >Clustering Iteration</td>\n                        <td id=\"T_31a3a30c_df43_11eb_abe1_acde48001122row43_col1\" class=\"data row43 col1\" >None</td>\n            </tr>\n            <tr>\n                        <th id=\"T_31a3a30c_df43_11eb_abe1_acde48001122level0_row44\" class=\"row_heading level0 row44\" >44</th>\n                        <td id=\"T_31a3a30c_df43_11eb_abe1_acde48001122row44_col0\" class=\"data row44 col0\" >Polynomial Features</td>\n                        <td id=\"T_31a3a30c_df43_11eb_abe1_acde48001122row44_col1\" class=\"data row44 col1\" >False</td>\n            </tr>\n            <tr>\n                        <th id=\"T_31a3a30c_df43_11eb_abe1_acde48001122level0_row45\" class=\"row_heading level0 row45\" >45</th>\n                        <td id=\"T_31a3a30c_df43_11eb_abe1_acde48001122row45_col0\" class=\"data row45 col0\" >Polynomial Degree</td>\n                        <td id=\"T_31a3a30c_df43_11eb_abe1_acde48001122row45_col1\" class=\"data row45 col1\" >None</td>\n            </tr>\n            <tr>\n                        <th id=\"T_31a3a30c_df43_11eb_abe1_acde48001122level0_row46\" class=\"row_heading level0 row46\" >46</th>\n                        <td id=\"T_31a3a30c_df43_11eb_abe1_acde48001122row46_col0\" class=\"data row46 col0\" >Trignometry Features</td>\n                        <td id=\"T_31a3a30c_df43_11eb_abe1_acde48001122row46_col1\" class=\"data row46 col1\" >False</td>\n            </tr>\n            <tr>\n                        <th id=\"T_31a3a30c_df43_11eb_abe1_acde48001122level0_row47\" class=\"row_heading level0 row47\" >47</th>\n                        <td id=\"T_31a3a30c_df43_11eb_abe1_acde48001122row47_col0\" class=\"data row47 col0\" >Polynomial Threshold</td>\n                        <td id=\"T_31a3a30c_df43_11eb_abe1_acde48001122row47_col1\" class=\"data row47 col1\" >None</td>\n            </tr>\n            <tr>\n                        <th id=\"T_31a3a30c_df43_11eb_abe1_acde48001122level0_row48\" class=\"row_heading level0 row48\" >48</th>\n                        <td id=\"T_31a3a30c_df43_11eb_abe1_acde48001122row48_col0\" class=\"data row48 col0\" >Group Features</td>\n                        <td id=\"T_31a3a30c_df43_11eb_abe1_acde48001122row48_col1\" class=\"data row48 col1\" >False</td>\n            </tr>\n            <tr>\n                        <th id=\"T_31a3a30c_df43_11eb_abe1_acde48001122level0_row49\" class=\"row_heading level0 row49\" >49</th>\n                        <td id=\"T_31a3a30c_df43_11eb_abe1_acde48001122row49_col0\" class=\"data row49 col0\" >Feature Selection</td>\n                        <td id=\"T_31a3a30c_df43_11eb_abe1_acde48001122row49_col1\" class=\"data row49 col1\" >False</td>\n            </tr>\n            <tr>\n                        <th id=\"T_31a3a30c_df43_11eb_abe1_acde48001122level0_row50\" class=\"row_heading level0 row50\" >50</th>\n                        <td id=\"T_31a3a30c_df43_11eb_abe1_acde48001122row50_col0\" class=\"data row50 col0\" >Feature Selection Method</td>\n                        <td id=\"T_31a3a30c_df43_11eb_abe1_acde48001122row50_col1\" class=\"data row50 col1\" >classic</td>\n            </tr>\n            <tr>\n                        <th id=\"T_31a3a30c_df43_11eb_abe1_acde48001122level0_row51\" class=\"row_heading level0 row51\" >51</th>\n                        <td id=\"T_31a3a30c_df43_11eb_abe1_acde48001122row51_col0\" class=\"data row51 col0\" >Features Selection Threshold</td>\n                        <td id=\"T_31a3a30c_df43_11eb_abe1_acde48001122row51_col1\" class=\"data row51 col1\" >None</td>\n            </tr>\n            <tr>\n                        <th id=\"T_31a3a30c_df43_11eb_abe1_acde48001122level0_row52\" class=\"row_heading level0 row52\" >52</th>\n                        <td id=\"T_31a3a30c_df43_11eb_abe1_acde48001122row52_col0\" class=\"data row52 col0\" >Feature Interaction</td>\n                        <td id=\"T_31a3a30c_df43_11eb_abe1_acde48001122row52_col1\" class=\"data row52 col1\" >False</td>\n            </tr>\n            <tr>\n                        <th id=\"T_31a3a30c_df43_11eb_abe1_acde48001122level0_row53\" class=\"row_heading level0 row53\" >53</th>\n                        <td id=\"T_31a3a30c_df43_11eb_abe1_acde48001122row53_col0\" class=\"data row53 col0\" >Feature Ratio</td>\n                        <td id=\"T_31a3a30c_df43_11eb_abe1_acde48001122row53_col1\" class=\"data row53 col1\" >False</td>\n            </tr>\n            <tr>\n                        <th id=\"T_31a3a30c_df43_11eb_abe1_acde48001122level0_row54\" class=\"row_heading level0 row54\" >54</th>\n                        <td id=\"T_31a3a30c_df43_11eb_abe1_acde48001122row54_col0\" class=\"data row54 col0\" >Interaction Threshold</td>\n                        <td id=\"T_31a3a30c_df43_11eb_abe1_acde48001122row54_col1\" class=\"data row54 col1\" >None</td>\n            </tr>\n            <tr>\n                        <th id=\"T_31a3a30c_df43_11eb_abe1_acde48001122level0_row55\" class=\"row_heading level0 row55\" >55</th>\n                        <td id=\"T_31a3a30c_df43_11eb_abe1_acde48001122row55_col0\" class=\"data row55 col0\" >Transform Target</td>\n                        <td id=\"T_31a3a30c_df43_11eb_abe1_acde48001122row55_col1\" class=\"data row55 col1\" >True</td>\n            </tr>\n            <tr>\n                        <th id=\"T_31a3a30c_df43_11eb_abe1_acde48001122level0_row56\" class=\"row_heading level0 row56\" >56</th>\n                        <td id=\"T_31a3a30c_df43_11eb_abe1_acde48001122row56_col0\" class=\"data row56 col0\" >Transform Target Method</td>\n                        <td id=\"T_31a3a30c_df43_11eb_abe1_acde48001122row56_col1\" class=\"data row56 col1\" >box-cox</td>\n            </tr>\n    </tbody></table>"
     },
     "metadata": {}
    }
   ],
   "source": [
    "from pycaret.regression import *\n",
    "s = setup(data = train, test_data = test, target = 'price500', fold_strategy = 'timeseries', numeric_features = ['last_updatedYear','last_updatedMonth', 'last_updatedDay'], fold = 3, transform_target = True, session_id = 42)"
   ]
  },
  {
   "source": [
    "Next we call the `compare_models` function to find the best model using the Mean Absolute Error(MAE), which is the mean of the absolute difference between the  models prediction and expected values.   "
   ],
   "cell_type": "markdown",
   "metadata": {}
  },
  {
   "cell_type": "code",
   "execution_count": 338,
   "metadata": {},
   "outputs": [
    {
     "output_type": "display_data",
     "data": {
      "text/plain": "<pandas.io.formats.style.Styler at 0x7f9e70903e80>",
      "text/html": "<style  type=\"text/css\" >\n    #T_ad6adc50_df43_11eb_9c13_acde48001122 th {\n          text-align: left;\n    }#T_ad6adc50_df43_11eb_9c13_acde48001122row0_col0,#T_ad6adc50_df43_11eb_9c13_acde48001122row1_col0,#T_ad6adc50_df43_11eb_9c13_acde48001122row1_col1,#T_ad6adc50_df43_11eb_9c13_acde48001122row1_col2,#T_ad6adc50_df43_11eb_9c13_acde48001122row1_col3,#T_ad6adc50_df43_11eb_9c13_acde48001122row1_col4,#T_ad6adc50_df43_11eb_9c13_acde48001122row1_col5,#T_ad6adc50_df43_11eb_9c13_acde48001122row1_col6,#T_ad6adc50_df43_11eb_9c13_acde48001122row2_col0,#T_ad6adc50_df43_11eb_9c13_acde48001122row2_col1,#T_ad6adc50_df43_11eb_9c13_acde48001122row2_col2,#T_ad6adc50_df43_11eb_9c13_acde48001122row2_col3,#T_ad6adc50_df43_11eb_9c13_acde48001122row2_col4,#T_ad6adc50_df43_11eb_9c13_acde48001122row2_col5,#T_ad6adc50_df43_11eb_9c13_acde48001122row2_col6,#T_ad6adc50_df43_11eb_9c13_acde48001122row3_col0,#T_ad6adc50_df43_11eb_9c13_acde48001122row3_col1,#T_ad6adc50_df43_11eb_9c13_acde48001122row3_col2,#T_ad6adc50_df43_11eb_9c13_acde48001122row3_col3,#T_ad6adc50_df43_11eb_9c13_acde48001122row3_col4,#T_ad6adc50_df43_11eb_9c13_acde48001122row3_col5,#T_ad6adc50_df43_11eb_9c13_acde48001122row3_col6,#T_ad6adc50_df43_11eb_9c13_acde48001122row4_col0,#T_ad6adc50_df43_11eb_9c13_acde48001122row4_col1,#T_ad6adc50_df43_11eb_9c13_acde48001122row4_col2,#T_ad6adc50_df43_11eb_9c13_acde48001122row4_col3,#T_ad6adc50_df43_11eb_9c13_acde48001122row4_col4,#T_ad6adc50_df43_11eb_9c13_acde48001122row4_col5,#T_ad6adc50_df43_11eb_9c13_acde48001122row4_col6,#T_ad6adc50_df43_11eb_9c13_acde48001122row5_col0,#T_ad6adc50_df43_11eb_9c13_acde48001122row5_col1,#T_ad6adc50_df43_11eb_9c13_acde48001122row5_col2,#T_ad6adc50_df43_11eb_9c13_acde48001122row5_col3,#T_ad6adc50_df43_11eb_9c13_acde48001122row5_col4,#T_ad6adc50_df43_11eb_9c13_acde48001122row5_col5,#T_ad6adc50_df43_11eb_9c13_acde48001122row5_col6,#T_ad6adc50_df43_11eb_9c13_acde48001122row6_col0,#T_ad6adc50_df43_11eb_9c13_acde48001122row6_col1,#T_ad6adc50_df43_11eb_9c13_acde48001122row6_col2,#T_ad6adc50_df43_11eb_9c13_acde48001122row6_col3,#T_ad6adc50_df43_11eb_9c13_acde48001122row6_col4,#T_ad6adc50_df43_11eb_9c13_acde48001122row6_col5,#T_ad6adc50_df43_11eb_9c13_acde48001122row6_col6,#T_ad6adc50_df43_11eb_9c13_acde48001122row7_col0,#T_ad6adc50_df43_11eb_9c13_acde48001122row7_col1,#T_ad6adc50_df43_11eb_9c13_acde48001122row7_col2,#T_ad6adc50_df43_11eb_9c13_acde48001122row7_col3,#T_ad6adc50_df43_11eb_9c13_acde48001122row7_col4,#T_ad6adc50_df43_11eb_9c13_acde48001122row7_col5,#T_ad6adc50_df43_11eb_9c13_acde48001122row7_col6,#T_ad6adc50_df43_11eb_9c13_acde48001122row8_col0,#T_ad6adc50_df43_11eb_9c13_acde48001122row8_col1,#T_ad6adc50_df43_11eb_9c13_acde48001122row8_col2,#T_ad6adc50_df43_11eb_9c13_acde48001122row8_col3,#T_ad6adc50_df43_11eb_9c13_acde48001122row8_col4,#T_ad6adc50_df43_11eb_9c13_acde48001122row8_col5,#T_ad6adc50_df43_11eb_9c13_acde48001122row8_col6,#T_ad6adc50_df43_11eb_9c13_acde48001122row9_col0,#T_ad6adc50_df43_11eb_9c13_acde48001122row9_col1,#T_ad6adc50_df43_11eb_9c13_acde48001122row9_col2,#T_ad6adc50_df43_11eb_9c13_acde48001122row9_col3,#T_ad6adc50_df43_11eb_9c13_acde48001122row9_col4,#T_ad6adc50_df43_11eb_9c13_acde48001122row9_col5,#T_ad6adc50_df43_11eb_9c13_acde48001122row9_col6,#T_ad6adc50_df43_11eb_9c13_acde48001122row10_col0,#T_ad6adc50_df43_11eb_9c13_acde48001122row10_col1,#T_ad6adc50_df43_11eb_9c13_acde48001122row10_col2,#T_ad6adc50_df43_11eb_9c13_acde48001122row10_col3,#T_ad6adc50_df43_11eb_9c13_acde48001122row10_col4,#T_ad6adc50_df43_11eb_9c13_acde48001122row10_col5,#T_ad6adc50_df43_11eb_9c13_acde48001122row10_col6,#T_ad6adc50_df43_11eb_9c13_acde48001122row11_col0,#T_ad6adc50_df43_11eb_9c13_acde48001122row11_col1,#T_ad6adc50_df43_11eb_9c13_acde48001122row11_col2,#T_ad6adc50_df43_11eb_9c13_acde48001122row11_col3,#T_ad6adc50_df43_11eb_9c13_acde48001122row11_col4,#T_ad6adc50_df43_11eb_9c13_acde48001122row11_col5,#T_ad6adc50_df43_11eb_9c13_acde48001122row11_col6,#T_ad6adc50_df43_11eb_9c13_acde48001122row12_col0,#T_ad6adc50_df43_11eb_9c13_acde48001122row12_col1,#T_ad6adc50_df43_11eb_9c13_acde48001122row12_col2,#T_ad6adc50_df43_11eb_9c13_acde48001122row12_col3,#T_ad6adc50_df43_11eb_9c13_acde48001122row12_col4,#T_ad6adc50_df43_11eb_9c13_acde48001122row12_col5,#T_ad6adc50_df43_11eb_9c13_acde48001122row12_col6,#T_ad6adc50_df43_11eb_9c13_acde48001122row13_col0,#T_ad6adc50_df43_11eb_9c13_acde48001122row13_col1,#T_ad6adc50_df43_11eb_9c13_acde48001122row13_col2,#T_ad6adc50_df43_11eb_9c13_acde48001122row13_col3,#T_ad6adc50_df43_11eb_9c13_acde48001122row13_col4,#T_ad6adc50_df43_11eb_9c13_acde48001122row13_col5,#T_ad6adc50_df43_11eb_9c13_acde48001122row13_col6{\n            text-align:  left;\n            text-align:  left;\n        }#T_ad6adc50_df43_11eb_9c13_acde48001122row0_col1,#T_ad6adc50_df43_11eb_9c13_acde48001122row0_col2,#T_ad6adc50_df43_11eb_9c13_acde48001122row0_col3,#T_ad6adc50_df43_11eb_9c13_acde48001122row0_col4,#T_ad6adc50_df43_11eb_9c13_acde48001122row0_col5,#T_ad6adc50_df43_11eb_9c13_acde48001122row0_col6{\n            text-align:  left;\n            text-align:  left;\n            background-color:  yellow;\n        }#T_ad6adc50_df43_11eb_9c13_acde48001122row0_col7,#T_ad6adc50_df43_11eb_9c13_acde48001122row1_col7,#T_ad6adc50_df43_11eb_9c13_acde48001122row2_col7,#T_ad6adc50_df43_11eb_9c13_acde48001122row3_col7,#T_ad6adc50_df43_11eb_9c13_acde48001122row4_col7,#T_ad6adc50_df43_11eb_9c13_acde48001122row5_col7,#T_ad6adc50_df43_11eb_9c13_acde48001122row6_col7,#T_ad6adc50_df43_11eb_9c13_acde48001122row7_col7,#T_ad6adc50_df43_11eb_9c13_acde48001122row8_col7,#T_ad6adc50_df43_11eb_9c13_acde48001122row9_col7,#T_ad6adc50_df43_11eb_9c13_acde48001122row10_col7,#T_ad6adc50_df43_11eb_9c13_acde48001122row11_col7,#T_ad6adc50_df43_11eb_9c13_acde48001122row12_col7{\n            text-align:  left;\n            text-align:  left;\n            background-color:  lightgrey;\n        }#T_ad6adc50_df43_11eb_9c13_acde48001122row13_col7{\n            text-align:  left;\n            text-align:  left;\n            background-color:  yellow;\n            background-color:  lightgrey;\n        }</style><table id=\"T_ad6adc50_df43_11eb_9c13_acde48001122\" ><thead>    <tr>        <th class=\"blank level0\" ></th>        <th class=\"col_heading level0 col0\" >Model</th>        <th class=\"col_heading level0 col1\" >MAE</th>        <th class=\"col_heading level0 col2\" >MSE</th>        <th class=\"col_heading level0 col3\" >RMSE</th>        <th class=\"col_heading level0 col4\" >R2</th>        <th class=\"col_heading level0 col5\" >RMSLE</th>        <th class=\"col_heading level0 col6\" >MAPE</th>        <th class=\"col_heading level0 col7\" >TT (Sec)</th>    </tr></thead><tbody>\n                <tr>\n                        <th id=\"T_ad6adc50_df43_11eb_9c13_acde48001122level0_row0\" class=\"row_heading level0 row0\" >par</th>\n                        <td id=\"T_ad6adc50_df43_11eb_9c13_acde48001122row0_col0\" class=\"data row0 col0\" >Passive Aggressive Regressor</td>\n                        <td id=\"T_ad6adc50_df43_11eb_9c13_acde48001122row0_col1\" class=\"data row0 col1\" >0.0605</td>\n                        <td id=\"T_ad6adc50_df43_11eb_9c13_acde48001122row0_col2\" class=\"data row0 col2\" >0.0056</td>\n                        <td id=\"T_ad6adc50_df43_11eb_9c13_acde48001122row0_col3\" class=\"data row0 col3\" >0.0678</td>\n                        <td id=\"T_ad6adc50_df43_11eb_9c13_acde48001122row0_col4\" class=\"data row0 col4\" >-2.2270</td>\n                        <td id=\"T_ad6adc50_df43_11eb_9c13_acde48001122row0_col5\" class=\"data row0 col5\" >0.0221</td>\n                        <td id=\"T_ad6adc50_df43_11eb_9c13_acde48001122row0_col6\" class=\"data row0 col6\" >0.0288</td>\n                        <td id=\"T_ad6adc50_df43_11eb_9c13_acde48001122row0_col7\" class=\"data row0 col7\" >1.4700</td>\n            </tr>\n            <tr>\n                        <th id=\"T_ad6adc50_df43_11eb_9c13_acde48001122level0_row1\" class=\"row_heading level0 row1\" >ada</th>\n                        <td id=\"T_ad6adc50_df43_11eb_9c13_acde48001122row1_col0\" class=\"data row1 col0\" >AdaBoost Regressor</td>\n                        <td id=\"T_ad6adc50_df43_11eb_9c13_acde48001122row1_col1\" class=\"data row1 col1\" >0.0796</td>\n                        <td id=\"T_ad6adc50_df43_11eb_9c13_acde48001122row1_col2\" class=\"data row1 col2\" >0.0175</td>\n                        <td id=\"T_ad6adc50_df43_11eb_9c13_acde48001122row1_col3\" class=\"data row1 col3\" >0.1127</td>\n                        <td id=\"T_ad6adc50_df43_11eb_9c13_acde48001122row1_col4\" class=\"data row1 col4\" >-47.4081</td>\n                        <td id=\"T_ad6adc50_df43_11eb_9c13_acde48001122row1_col5\" class=\"data row1 col5\" >0.0379</td>\n                        <td id=\"T_ad6adc50_df43_11eb_9c13_acde48001122row1_col6\" class=\"data row1 col6\" >0.0378</td>\n                        <td id=\"T_ad6adc50_df43_11eb_9c13_acde48001122row1_col7\" class=\"data row1 col7\" >1.0000</td>\n            </tr>\n            <tr>\n                        <th id=\"T_ad6adc50_df43_11eb_9c13_acde48001122level0_row2\" class=\"row_heading level0 row2\" >dt</th>\n                        <td id=\"T_ad6adc50_df43_11eb_9c13_acde48001122row2_col0\" class=\"data row2 col0\" >Decision Tree Regressor</td>\n                        <td id=\"T_ad6adc50_df43_11eb_9c13_acde48001122row2_col1\" class=\"data row2 col1\" >0.0857</td>\n                        <td id=\"T_ad6adc50_df43_11eb_9c13_acde48001122row2_col2\" class=\"data row2 col2\" >0.0213</td>\n                        <td id=\"T_ad6adc50_df43_11eb_9c13_acde48001122row2_col3\" class=\"data row2 col3\" >0.1198</td>\n                        <td id=\"T_ad6adc50_df43_11eb_9c13_acde48001122row2_col4\" class=\"data row2 col4\" >-60.1246</td>\n                        <td id=\"T_ad6adc50_df43_11eb_9c13_acde48001122row2_col5\" class=\"data row2 col5\" >0.0406</td>\n                        <td id=\"T_ad6adc50_df43_11eb_9c13_acde48001122row2_col6\" class=\"data row2 col6\" >0.0407</td>\n                        <td id=\"T_ad6adc50_df43_11eb_9c13_acde48001122row2_col7\" class=\"data row2 col7\" >1.0700</td>\n            </tr>\n            <tr>\n                        <th id=\"T_ad6adc50_df43_11eb_9c13_acde48001122level0_row3\" class=\"row_heading level0 row3\" >xgboost</th>\n                        <td id=\"T_ad6adc50_df43_11eb_9c13_acde48001122row3_col0\" class=\"data row3 col0\" >Extreme Gradient Boosting</td>\n                        <td id=\"T_ad6adc50_df43_11eb_9c13_acde48001122row3_col1\" class=\"data row3 col1\" >0.0865</td>\n                        <td id=\"T_ad6adc50_df43_11eb_9c13_acde48001122row3_col2\" class=\"data row3 col2\" >0.0214</td>\n                        <td id=\"T_ad6adc50_df43_11eb_9c13_acde48001122row3_col3\" class=\"data row3 col3\" >0.1209</td>\n                        <td id=\"T_ad6adc50_df43_11eb_9c13_acde48001122row3_col4\" class=\"data row3 col4\" >-60.2439</td>\n                        <td id=\"T_ad6adc50_df43_11eb_9c13_acde48001122row3_col5\" class=\"data row3 col5\" >0.0410</td>\n                        <td id=\"T_ad6adc50_df43_11eb_9c13_acde48001122row3_col6\" class=\"data row3 col6\" >0.0411</td>\n                        <td id=\"T_ad6adc50_df43_11eb_9c13_acde48001122row3_col7\" class=\"data row3 col7\" >1.1267</td>\n            </tr>\n            <tr>\n                        <th id=\"T_ad6adc50_df43_11eb_9c13_acde48001122level0_row4\" class=\"row_heading level0 row4\" >et</th>\n                        <td id=\"T_ad6adc50_df43_11eb_9c13_acde48001122row4_col0\" class=\"data row4 col0\" >Extra Trees Regressor</td>\n                        <td id=\"T_ad6adc50_df43_11eb_9c13_acde48001122row4_col1\" class=\"data row4 col1\" >0.0877</td>\n                        <td id=\"T_ad6adc50_df43_11eb_9c13_acde48001122row4_col2\" class=\"data row4 col2\" >0.0217</td>\n                        <td id=\"T_ad6adc50_df43_11eb_9c13_acde48001122row4_col3\" class=\"data row4 col3\" >0.1234</td>\n                        <td id=\"T_ad6adc50_df43_11eb_9c13_acde48001122row4_col4\" class=\"data row4 col4\" >-60.1248</td>\n                        <td id=\"T_ad6adc50_df43_11eb_9c13_acde48001122row4_col5\" class=\"data row4 col5\" >0.0418</td>\n                        <td id=\"T_ad6adc50_df43_11eb_9c13_acde48001122row4_col6\" class=\"data row4 col6\" >0.0417</td>\n                        <td id=\"T_ad6adc50_df43_11eb_9c13_acde48001122row4_col7\" class=\"data row4 col7\" >0.2433</td>\n            </tr>\n            <tr>\n                        <th id=\"T_ad6adc50_df43_11eb_9c13_acde48001122level0_row5\" class=\"row_heading level0 row5\" >gbr</th>\n                        <td id=\"T_ad6adc50_df43_11eb_9c13_acde48001122row5_col0\" class=\"data row5 col0\" >Gradient Boosting Regressor</td>\n                        <td id=\"T_ad6adc50_df43_11eb_9c13_acde48001122row5_col1\" class=\"data row5 col1\" >0.0886</td>\n                        <td id=\"T_ad6adc50_df43_11eb_9c13_acde48001122row5_col2\" class=\"data row5 col2\" >0.0222</td>\n                        <td id=\"T_ad6adc50_df43_11eb_9c13_acde48001122row5_col3\" class=\"data row5 col3\" >0.1259</td>\n                        <td id=\"T_ad6adc50_df43_11eb_9c13_acde48001122row5_col4\" class=\"data row5 col4\" >-61.1376</td>\n                        <td id=\"T_ad6adc50_df43_11eb_9c13_acde48001122row5_col5\" class=\"data row5 col5\" >0.0426</td>\n                        <td id=\"T_ad6adc50_df43_11eb_9c13_acde48001122row5_col6\" class=\"data row5 col6\" >0.0420</td>\n                        <td id=\"T_ad6adc50_df43_11eb_9c13_acde48001122row5_col7\" class=\"data row5 col7\" >0.9667</td>\n            </tr>\n            <tr>\n                        <th id=\"T_ad6adc50_df43_11eb_9c13_acde48001122level0_row6\" class=\"row_heading level0 row6\" >rf</th>\n                        <td id=\"T_ad6adc50_df43_11eb_9c13_acde48001122row6_col0\" class=\"data row6 col0\" >Random Forest Regressor</td>\n                        <td id=\"T_ad6adc50_df43_11eb_9c13_acde48001122row6_col1\" class=\"data row6 col1\" >0.0933</td>\n                        <td id=\"T_ad6adc50_df43_11eb_9c13_acde48001122row6_col2\" class=\"data row6 col2\" >0.0218</td>\n                        <td id=\"T_ad6adc50_df43_11eb_9c13_acde48001122row6_col3\" class=\"data row6 col3\" >0.1306</td>\n                        <td id=\"T_ad6adc50_df43_11eb_9c13_acde48001122row6_col4\" class=\"data row6 col4\" >-56.2358</td>\n                        <td id=\"T_ad6adc50_df43_11eb_9c13_acde48001122row6_col5\" class=\"data row6 col5\" >0.0440</td>\n                        <td id=\"T_ad6adc50_df43_11eb_9c13_acde48001122row6_col6\" class=\"data row6 col6\" >0.0442</td>\n                        <td id=\"T_ad6adc50_df43_11eb_9c13_acde48001122row6_col7\" class=\"data row6 col7\" >1.3233</td>\n            </tr>\n            <tr>\n                        <th id=\"T_ad6adc50_df43_11eb_9c13_acde48001122level0_row7\" class=\"row_heading level0 row7\" >catboost</th>\n                        <td id=\"T_ad6adc50_df43_11eb_9c13_acde48001122row7_col0\" class=\"data row7 col0\" >CatBoost Regressor</td>\n                        <td id=\"T_ad6adc50_df43_11eb_9c13_acde48001122row7_col1\" class=\"data row7 col1\" >0.0958</td>\n                        <td id=\"T_ad6adc50_df43_11eb_9c13_acde48001122row7_col2\" class=\"data row7 col2\" >0.0238</td>\n                        <td id=\"T_ad6adc50_df43_11eb_9c13_acde48001122row7_col3\" class=\"data row7 col3\" >0.1333</td>\n                        <td id=\"T_ad6adc50_df43_11eb_9c13_acde48001122row7_col4\" class=\"data row7 col4\" >-63.3711</td>\n                        <td id=\"T_ad6adc50_df43_11eb_9c13_acde48001122row7_col5\" class=\"data row7 col5\" >0.0451</td>\n                        <td id=\"T_ad6adc50_df43_11eb_9c13_acde48001122row7_col6\" class=\"data row7 col6\" >0.0454</td>\n                        <td id=\"T_ad6adc50_df43_11eb_9c13_acde48001122row7_col7\" class=\"data row7 col7\" >0.1933</td>\n            </tr>\n            <tr>\n                        <th id=\"T_ad6adc50_df43_11eb_9c13_acde48001122level0_row8\" class=\"row_heading level0 row8\" >en</th>\n                        <td id=\"T_ad6adc50_df43_11eb_9c13_acde48001122row8_col0\" class=\"data row8 col0\" >Elastic Net</td>\n                        <td id=\"T_ad6adc50_df43_11eb_9c13_acde48001122row8_col1\" class=\"data row8 col1\" >0.1083</td>\n                        <td id=\"T_ad6adc50_df43_11eb_9c13_acde48001122row8_col2\" class=\"data row8 col2\" >0.0192</td>\n                        <td id=\"T_ad6adc50_df43_11eb_9c13_acde48001122row8_col3\" class=\"data row8 col3\" >0.1341</td>\n                        <td id=\"T_ad6adc50_df43_11eb_9c13_acde48001122row8_col4\" class=\"data row8 col4\" >-36.1485</td>\n                        <td id=\"T_ad6adc50_df43_11eb_9c13_acde48001122row8_col5\" class=\"data row8 col5\" >0.0448</td>\n                        <td id=\"T_ad6adc50_df43_11eb_9c13_acde48001122row8_col6\" class=\"data row8 col6\" >0.0516</td>\n                        <td id=\"T_ad6adc50_df43_11eb_9c13_acde48001122row8_col7\" class=\"data row8 col7\" >1.4000</td>\n            </tr>\n            <tr>\n                        <th id=\"T_ad6adc50_df43_11eb_9c13_acde48001122level0_row9\" class=\"row_heading level0 row9\" >knn</th>\n                        <td id=\"T_ad6adc50_df43_11eb_9c13_acde48001122row9_col0\" class=\"data row9 col0\" >K Neighbors Regressor</td>\n                        <td id=\"T_ad6adc50_df43_11eb_9c13_acde48001122row9_col1\" class=\"data row9 col1\" >0.1240</td>\n                        <td id=\"T_ad6adc50_df43_11eb_9c13_acde48001122row9_col2\" class=\"data row9 col2\" >0.0223</td>\n                        <td id=\"T_ad6adc50_df43_11eb_9c13_acde48001122row9_col3\" class=\"data row9 col3\" >0.1485</td>\n                        <td id=\"T_ad6adc50_df43_11eb_9c13_acde48001122row9_col4\" class=\"data row9 col4\" >-33.7511</td>\n                        <td id=\"T_ad6adc50_df43_11eb_9c13_acde48001122row9_col5\" class=\"data row9 col5\" >0.0493</td>\n                        <td id=\"T_ad6adc50_df43_11eb_9c13_acde48001122row9_col6\" class=\"data row9 col6\" >0.0587</td>\n                        <td id=\"T_ad6adc50_df43_11eb_9c13_acde48001122row9_col7\" class=\"data row9 col7\" >1.5300</td>\n            </tr>\n            <tr>\n                        <th id=\"T_ad6adc50_df43_11eb_9c13_acde48001122level0_row10\" class=\"row_heading level0 row10\" >lasso</th>\n                        <td id=\"T_ad6adc50_df43_11eb_9c13_acde48001122row10_col0\" class=\"data row10 col0\" >Lasso Regression</td>\n                        <td id=\"T_ad6adc50_df43_11eb_9c13_acde48001122row10_col1\" class=\"data row10 col1\" >0.1338</td>\n                        <td id=\"T_ad6adc50_df43_11eb_9c13_acde48001122row10_col2\" class=\"data row10 col2\" >0.0240</td>\n                        <td id=\"T_ad6adc50_df43_11eb_9c13_acde48001122row10_col3\" class=\"data row10 col3\" >0.1549</td>\n                        <td id=\"T_ad6adc50_df43_11eb_9c13_acde48001122row10_col4\" class=\"data row10 col4\" >-34.3363</td>\n                        <td id=\"T_ad6adc50_df43_11eb_9c13_acde48001122row10_col5\" class=\"data row10 col5\" >0.0516</td>\n                        <td id=\"T_ad6adc50_df43_11eb_9c13_acde48001122row10_col6\" class=\"data row10 col6\" >0.0637</td>\n                        <td id=\"T_ad6adc50_df43_11eb_9c13_acde48001122row10_col7\" class=\"data row10 col7\" >1.5767</td>\n            </tr>\n            <tr>\n                        <th id=\"T_ad6adc50_df43_11eb_9c13_acde48001122level0_row11\" class=\"row_heading level0 row11\" >omp</th>\n                        <td id=\"T_ad6adc50_df43_11eb_9c13_acde48001122row11_col0\" class=\"data row11 col0\" >Orthogonal Matching Pursuit</td>\n                        <td id=\"T_ad6adc50_df43_11eb_9c13_acde48001122row11_col1\" class=\"data row11 col1\" >0.1363</td>\n                        <td id=\"T_ad6adc50_df43_11eb_9c13_acde48001122row11_col2\" class=\"data row11 col2\" >0.0287</td>\n                        <td id=\"T_ad6adc50_df43_11eb_9c13_acde48001122row11_col3\" class=\"data row11 col3\" >0.1667</td>\n                        <td id=\"T_ad6adc50_df43_11eb_9c13_acde48001122row11_col4\" class=\"data row11 col4\" >-48.7405</td>\n                        <td id=\"T_ad6adc50_df43_11eb_9c13_acde48001122row11_col5\" class=\"data row11 col5\" >0.0558</td>\n                        <td id=\"T_ad6adc50_df43_11eb_9c13_acde48001122row11_col6\" class=\"data row11 col6\" >0.0646</td>\n                        <td id=\"T_ad6adc50_df43_11eb_9c13_acde48001122row11_col7\" class=\"data row11 col7\" >0.9400</td>\n            </tr>\n            <tr>\n                        <th id=\"T_ad6adc50_df43_11eb_9c13_acde48001122level0_row12\" class=\"row_heading level0 row12\" >llar</th>\n                        <td id=\"T_ad6adc50_df43_11eb_9c13_acde48001122row12_col0\" class=\"data row12 col0\" >Lasso Least Angle Regression</td>\n                        <td id=\"T_ad6adc50_df43_11eb_9c13_acde48001122row12_col1\" class=\"data row12 col1\" >0.1433</td>\n                        <td id=\"T_ad6adc50_df43_11eb_9c13_acde48001122row12_col2\" class=\"data row12 col2\" >0.0223</td>\n                        <td id=\"T_ad6adc50_df43_11eb_9c13_acde48001122row12_col3\" class=\"data row12 col3\" >0.1484</td>\n                        <td id=\"T_ad6adc50_df43_11eb_9c13_acde48001122row12_col4\" class=\"data row12 col4\" >-26.3508</td>\n                        <td id=\"T_ad6adc50_df43_11eb_9c13_acde48001122row12_col5\" class=\"data row12 col5\" >0.0491</td>\n                        <td id=\"T_ad6adc50_df43_11eb_9c13_acde48001122row12_col6\" class=\"data row12 col6\" >0.0683</td>\n                        <td id=\"T_ad6adc50_df43_11eb_9c13_acde48001122row12_col7\" class=\"data row12 col7\" >1.5067</td>\n            </tr>\n            <tr>\n                        <th id=\"T_ad6adc50_df43_11eb_9c13_acde48001122level0_row13\" class=\"row_heading level0 row13\" >lightgbm</th>\n                        <td id=\"T_ad6adc50_df43_11eb_9c13_acde48001122row13_col0\" class=\"data row13 col0\" >Light Gradient Boosting Machine</td>\n                        <td id=\"T_ad6adc50_df43_11eb_9c13_acde48001122row13_col1\" class=\"data row13 col1\" >0.1433</td>\n                        <td id=\"T_ad6adc50_df43_11eb_9c13_acde48001122row13_col2\" class=\"data row13 col2\" >0.0223</td>\n                        <td id=\"T_ad6adc50_df43_11eb_9c13_acde48001122row13_col3\" class=\"data row13 col3\" >0.1484</td>\n                        <td id=\"T_ad6adc50_df43_11eb_9c13_acde48001122row13_col4\" class=\"data row13 col4\" >-26.3508</td>\n                        <td id=\"T_ad6adc50_df43_11eb_9c13_acde48001122row13_col5\" class=\"data row13 col5\" >0.0491</td>\n                        <td id=\"T_ad6adc50_df43_11eb_9c13_acde48001122row13_col6\" class=\"data row13 col6\" >0.0683</td>\n                        <td id=\"T_ad6adc50_df43_11eb_9c13_acde48001122row13_col7\" class=\"data row13 col7\" >0.0633</td>\n            </tr>\n    </tbody></table>"
     },
     "metadata": {}
    }
   ],
   "source": [
    "best = compare_models(sort = 'MAE')"
   ]
  },
  {
   "source": [
    "From the results above, it looks like the \tPassive Aggressive Regressor has the lowest MAE error(0.0605), so we'll use that model on the test set"
   ],
   "cell_type": "markdown",
   "metadata": {}
  },
  {
   "cell_type": "code",
   "execution_count": null,
   "metadata": {},
   "outputs": [],
   "source": [
    "preds = predict_model(best)"
   ]
  },
  {
   "source": [
    "Next, we'll use this model and generate a forecast for the next 7 days worth of prices \n"
   ],
   "cell_type": "markdown",
   "metadata": {}
  },
  {
   "cell_type": "code",
   "execution_count": null,
   "metadata": {},
   "outputs": [],
   "source": [
    "forecast_df = pd.DataFrame()\n",
    "forecast_df[\"last_updated\"] = pd.date_range(start='2021-07-08', periods=8)\n",
    "add_datepart(forecast_df, 'last_updated')\n",
    "forecast_df = forecast_df[['last_updatedYear', 'last_updatedMonth', 'last_updatedDay']]\n",
    "forecast_df"
   ]
  },
  {
   "cell_type": "code",
   "execution_count": null,
   "metadata": {},
   "outputs": [],
   "source": [
    "predictions = predict_model(best, data=forecast_df)\n",
    "predictions"
   ]
  },
  {
   "source": [
    "Once we make our predictions, we'll then merge the predictions to the orginal data and plot the last 15 days in the dataframe"
   ],
   "cell_type": "markdown",
   "metadata": {}
  },
  {
   "cell_type": "code",
   "execution_count": null,
   "metadata": {},
   "outputs": [],
   "source": [
    "def pad_value(day):\n",
    "    value = str(int(day))\n",
    "    print()\n",
    "    if len(value) ==1:\n",
    "        return f'0{value}'\n",
    "    return value\n",
    "\n",
    "results_df = pd.concat([data,predictions], axis=0)\n",
    "dates = []\n",
    "for idx, x in results_df.iterrows():\n",
    "    date_str =  f'{pad_value(x[\"last_updatedYear\"])}-{pad_value(x[\"last_updatedMonth\"])}-{pad_value(x[\"last_updatedDay\"])}'\n",
    "    dates.append(pd.to_datetime(date_str, format='%Y-%m-%d'))\n",
    "results_df[\"date\"] = dates\n",
    "\n",
    "results_df.drop([\"last_updatedYear\", \"last_updatedMonth\", \"last_updatedDay\"], axis=1,inplace=True)\n",
    "results_df = results_df.set_index('date')\n"
   ]
  },
  {
   "cell_type": "code",
   "execution_count": null,
   "metadata": {},
   "outputs": [],
   "source": [
    "results_df[-15:].plot()"
   ]
  },
  {
   "source": [
    "The blue line above shows the actual prices and the orange are the predicitons, which do not look the best. If we zoom in to the predictions. we'll see a increasing in price per day"
   ],
   "cell_type": "markdown",
   "metadata": {}
  },
  {
   "source": [
    "results_df[-8:].plot()"
   ],
   "cell_type": "code",
   "metadata": {},
   "execution_count": null,
   "outputs": []
  },
  {
   "source": [
    "# Saving The Model\n",
    "\n",
    "After we trained our model, we can now save and use for forecasting on other data"
   ],
   "cell_type": "markdown",
   "metadata": {}
  },
  {
   "cell_type": "code",
   "execution_count": 341,
   "metadata": {},
   "outputs": [
    {
     "output_type": "stream",
     "name": "stdout",
     "text": [
      "Transformation Pipeline and Model Succesfully Saved\n"
     ]
    },
    {
     "output_type": "execute_result",
     "data": {
      "text/plain": [
       "(Pipeline(memory=None,\n",
       "          steps=[('dtypes',\n",
       "                  DataTypes_Auto_infer(categorical_features=[],\n",
       "                                       display_types=True, features_todrop=[],\n",
       "                                       id_columns=[], ml_usecase='regression',\n",
       "                                       numerical_features=['last_updatedYear',\n",
       "                                                           'last_updatedMonth',\n",
       "                                                           'last_updatedDay'],\n",
       "                                       target='price500', time_features=[])),\n",
       "                 ('imputer',\n",
       "                  Simple_Imputer(categorical_strategy='not_available',\n",
       "                                 fill_value_ca...\n",
       "                                                  regressor=PassiveAggressiveRegressor(C=1.0,\n",
       "                                                                                       average=False,\n",
       "                                                                                       early_stopping=False,\n",
       "                                                                                       epsilon=0.1,\n",
       "                                                                                       fit_intercept=True,\n",
       "                                                                                       loss='epsilon_insensitive',\n",
       "                                                                                       max_iter=1000,\n",
       "                                                                                       n_iter_no_change=5,\n",
       "                                                                                       random_state=42,\n",
       "                                                                                       shuffle=True,\n",
       "                                                                                       tol=0.001,\n",
       "                                                                                       validation_fraction=0.1,\n",
       "                                                                                       verbose=0,\n",
       "                                                                                       warm_start=False),\n",
       "                                                  shuffle=True, tol=0.001,\n",
       "                                                  validation_fraction=0.1,\n",
       "                                                  verbose=0,\n",
       "                                                  warm_start=False)]],\n",
       "          verbose=False),\n",
       " 'model.pkl')"
      ]
     },
     "metadata": {},
     "execution_count": 341
    }
   ],
   "source": [
    "save_model(best, \"model\")"
   ]
  },
  {
   "source": [
    "# Training Model for all Prices\n",
    "\n",
    "After we have a intial model, we can now train 3 seperate models for each price(`price150`, `price300` and `price500`)\n",
    "We'll refactor the model training code into a function that trains each price, gets the model with the best score, and saves the model to a seperate file"
   ],
   "cell_type": "markdown",
   "metadata": {}
  },
  {
   "cell_type": "code",
   "execution_count": 344,
   "metadata": {},
   "outputs": [],
   "source": [
    "def train(data, price, state=\"NewYork\"):\n",
    "    data = data.reset_index()\n",
    "    data = data[ data[\"state\"] == state].resample('d', on='last_updated').mean().dropna()\n",
    "    data = data.reset_index()\n",
    "   \n",
    "    add_datepart(data, field_name=\"last_updated\")\n",
    "    data = data[[price, 'last_updatedYear', 'last_updatedMonth', 'last_updatedDay']]   \n",
    "    mask = round(len(data) * 0.7)\n",
    "    train = data[:mask]\n",
    "    test = data[mask:]\n",
    "    print(\"train\",train.shape)\n",
    "    print(\"test\",test.shape)\n",
    "\n",
    "    s = setup(data = train, test_data = test, target = price, fold_strategy = 'timeseries', numeric_features = ['last_updatedYear','last_updatedMonth', 'last_updatedDay'], fold=2, transform_target = True, session_id = 42)\n",
    "    best = compare_models(sort = 'MAE')\n",
    "    save_model(best, f'{price}_model')"
   ]
  },
  {
   "cell_type": "code",
   "execution_count": 346,
   "metadata": {},
   "outputs": [
    {
     "output_type": "display_data",
     "data": {
      "text/plain": "<pandas.io.formats.style.Styler at 0x7f9e743011d0>",
      "text/html": "<style  type=\"text/css\" >\n    #T_223b9ee8_df47_11eb_ac56_acde48001122 th {\n          text-align: left;\n    }#T_223b9ee8_df47_11eb_ac56_acde48001122row0_col0,#T_223b9ee8_df47_11eb_ac56_acde48001122row1_col0,#T_223b9ee8_df47_11eb_ac56_acde48001122row2_col0,#T_223b9ee8_df47_11eb_ac56_acde48001122row2_col1,#T_223b9ee8_df47_11eb_ac56_acde48001122row2_col2,#T_223b9ee8_df47_11eb_ac56_acde48001122row2_col3,#T_223b9ee8_df47_11eb_ac56_acde48001122row2_col4,#T_223b9ee8_df47_11eb_ac56_acde48001122row2_col5,#T_223b9ee8_df47_11eb_ac56_acde48001122row2_col6,#T_223b9ee8_df47_11eb_ac56_acde48001122row3_col0,#T_223b9ee8_df47_11eb_ac56_acde48001122row3_col1,#T_223b9ee8_df47_11eb_ac56_acde48001122row3_col2,#T_223b9ee8_df47_11eb_ac56_acde48001122row3_col3,#T_223b9ee8_df47_11eb_ac56_acde48001122row3_col4,#T_223b9ee8_df47_11eb_ac56_acde48001122row3_col5,#T_223b9ee8_df47_11eb_ac56_acde48001122row3_col6,#T_223b9ee8_df47_11eb_ac56_acde48001122row4_col0,#T_223b9ee8_df47_11eb_ac56_acde48001122row4_col1,#T_223b9ee8_df47_11eb_ac56_acde48001122row4_col2,#T_223b9ee8_df47_11eb_ac56_acde48001122row4_col3,#T_223b9ee8_df47_11eb_ac56_acde48001122row4_col4,#T_223b9ee8_df47_11eb_ac56_acde48001122row4_col5,#T_223b9ee8_df47_11eb_ac56_acde48001122row4_col6,#T_223b9ee8_df47_11eb_ac56_acde48001122row5_col0,#T_223b9ee8_df47_11eb_ac56_acde48001122row5_col1,#T_223b9ee8_df47_11eb_ac56_acde48001122row5_col2,#T_223b9ee8_df47_11eb_ac56_acde48001122row5_col3,#T_223b9ee8_df47_11eb_ac56_acde48001122row5_col4,#T_223b9ee8_df47_11eb_ac56_acde48001122row5_col5,#T_223b9ee8_df47_11eb_ac56_acde48001122row5_col6,#T_223b9ee8_df47_11eb_ac56_acde48001122row6_col0,#T_223b9ee8_df47_11eb_ac56_acde48001122row6_col1,#T_223b9ee8_df47_11eb_ac56_acde48001122row6_col2,#T_223b9ee8_df47_11eb_ac56_acde48001122row6_col3,#T_223b9ee8_df47_11eb_ac56_acde48001122row6_col4,#T_223b9ee8_df47_11eb_ac56_acde48001122row6_col5,#T_223b9ee8_df47_11eb_ac56_acde48001122row6_col6,#T_223b9ee8_df47_11eb_ac56_acde48001122row7_col0,#T_223b9ee8_df47_11eb_ac56_acde48001122row7_col1,#T_223b9ee8_df47_11eb_ac56_acde48001122row7_col2,#T_223b9ee8_df47_11eb_ac56_acde48001122row7_col3,#T_223b9ee8_df47_11eb_ac56_acde48001122row7_col4,#T_223b9ee8_df47_11eb_ac56_acde48001122row7_col5,#T_223b9ee8_df47_11eb_ac56_acde48001122row7_col6,#T_223b9ee8_df47_11eb_ac56_acde48001122row8_col0,#T_223b9ee8_df47_11eb_ac56_acde48001122row8_col1,#T_223b9ee8_df47_11eb_ac56_acde48001122row8_col2,#T_223b9ee8_df47_11eb_ac56_acde48001122row8_col3,#T_223b9ee8_df47_11eb_ac56_acde48001122row8_col4,#T_223b9ee8_df47_11eb_ac56_acde48001122row8_col5,#T_223b9ee8_df47_11eb_ac56_acde48001122row8_col6,#T_223b9ee8_df47_11eb_ac56_acde48001122row9_col0,#T_223b9ee8_df47_11eb_ac56_acde48001122row9_col1,#T_223b9ee8_df47_11eb_ac56_acde48001122row9_col2,#T_223b9ee8_df47_11eb_ac56_acde48001122row9_col3,#T_223b9ee8_df47_11eb_ac56_acde48001122row9_col4,#T_223b9ee8_df47_11eb_ac56_acde48001122row9_col5,#T_223b9ee8_df47_11eb_ac56_acde48001122row9_col6,#T_223b9ee8_df47_11eb_ac56_acde48001122row10_col0,#T_223b9ee8_df47_11eb_ac56_acde48001122row10_col1,#T_223b9ee8_df47_11eb_ac56_acde48001122row10_col2,#T_223b9ee8_df47_11eb_ac56_acde48001122row10_col3,#T_223b9ee8_df47_11eb_ac56_acde48001122row10_col4,#T_223b9ee8_df47_11eb_ac56_acde48001122row10_col5,#T_223b9ee8_df47_11eb_ac56_acde48001122row10_col6,#T_223b9ee8_df47_11eb_ac56_acde48001122row11_col0,#T_223b9ee8_df47_11eb_ac56_acde48001122row11_col1,#T_223b9ee8_df47_11eb_ac56_acde48001122row11_col2,#T_223b9ee8_df47_11eb_ac56_acde48001122row11_col3,#T_223b9ee8_df47_11eb_ac56_acde48001122row11_col4,#T_223b9ee8_df47_11eb_ac56_acde48001122row11_col5,#T_223b9ee8_df47_11eb_ac56_acde48001122row11_col6,#T_223b9ee8_df47_11eb_ac56_acde48001122row12_col0,#T_223b9ee8_df47_11eb_ac56_acde48001122row12_col1,#T_223b9ee8_df47_11eb_ac56_acde48001122row12_col2,#T_223b9ee8_df47_11eb_ac56_acde48001122row12_col3,#T_223b9ee8_df47_11eb_ac56_acde48001122row12_col4,#T_223b9ee8_df47_11eb_ac56_acde48001122row12_col5,#T_223b9ee8_df47_11eb_ac56_acde48001122row12_col6,#T_223b9ee8_df47_11eb_ac56_acde48001122row13_col0,#T_223b9ee8_df47_11eb_ac56_acde48001122row13_col1,#T_223b9ee8_df47_11eb_ac56_acde48001122row13_col2,#T_223b9ee8_df47_11eb_ac56_acde48001122row13_col3,#T_223b9ee8_df47_11eb_ac56_acde48001122row13_col4,#T_223b9ee8_df47_11eb_ac56_acde48001122row13_col5,#T_223b9ee8_df47_11eb_ac56_acde48001122row13_col6{\n            text-align:  left;\n            text-align:  left;\n        }#T_223b9ee8_df47_11eb_ac56_acde48001122row0_col1,#T_223b9ee8_df47_11eb_ac56_acde48001122row0_col2,#T_223b9ee8_df47_11eb_ac56_acde48001122row0_col3,#T_223b9ee8_df47_11eb_ac56_acde48001122row0_col4,#T_223b9ee8_df47_11eb_ac56_acde48001122row0_col5,#T_223b9ee8_df47_11eb_ac56_acde48001122row0_col6,#T_223b9ee8_df47_11eb_ac56_acde48001122row1_col1,#T_223b9ee8_df47_11eb_ac56_acde48001122row1_col2,#T_223b9ee8_df47_11eb_ac56_acde48001122row1_col3,#T_223b9ee8_df47_11eb_ac56_acde48001122row1_col4,#T_223b9ee8_df47_11eb_ac56_acde48001122row1_col5,#T_223b9ee8_df47_11eb_ac56_acde48001122row1_col6{\n            text-align:  left;\n            text-align:  left;\n            background-color:  yellow;\n        }#T_223b9ee8_df47_11eb_ac56_acde48001122row0_col7,#T_223b9ee8_df47_11eb_ac56_acde48001122row1_col7,#T_223b9ee8_df47_11eb_ac56_acde48001122row2_col7,#T_223b9ee8_df47_11eb_ac56_acde48001122row3_col7,#T_223b9ee8_df47_11eb_ac56_acde48001122row4_col7,#T_223b9ee8_df47_11eb_ac56_acde48001122row5_col7,#T_223b9ee8_df47_11eb_ac56_acde48001122row6_col7,#T_223b9ee8_df47_11eb_ac56_acde48001122row7_col7,#T_223b9ee8_df47_11eb_ac56_acde48001122row8_col7,#T_223b9ee8_df47_11eb_ac56_acde48001122row10_col7,#T_223b9ee8_df47_11eb_ac56_acde48001122row11_col7,#T_223b9ee8_df47_11eb_ac56_acde48001122row12_col7,#T_223b9ee8_df47_11eb_ac56_acde48001122row13_col7{\n            text-align:  left;\n            text-align:  left;\n            background-color:  lightgrey;\n        }#T_223b9ee8_df47_11eb_ac56_acde48001122row9_col7{\n            text-align:  left;\n            text-align:  left;\n            background-color:  yellow;\n            background-color:  lightgrey;\n        }</style><table id=\"T_223b9ee8_df47_11eb_ac56_acde48001122\" ><thead>    <tr>        <th class=\"blank level0\" ></th>        <th class=\"col_heading level0 col0\" >Model</th>        <th class=\"col_heading level0 col1\" >MAE</th>        <th class=\"col_heading level0 col2\" >MSE</th>        <th class=\"col_heading level0 col3\" >RMSE</th>        <th class=\"col_heading level0 col4\" >R2</th>        <th class=\"col_heading level0 col5\" >RMSLE</th>        <th class=\"col_heading level0 col6\" >MAPE</th>        <th class=\"col_heading level0 col7\" >TT (Sec)</th>    </tr></thead><tbody>\n                <tr>\n                        <th id=\"T_223b9ee8_df47_11eb_ac56_acde48001122level0_row0\" class=\"row_heading level0 row0\" >llar</th>\n                        <td id=\"T_223b9ee8_df47_11eb_ac56_acde48001122row0_col0\" class=\"data row0 col0\" >Lasso Least Angle Regression</td>\n                        <td id=\"T_223b9ee8_df47_11eb_ac56_acde48001122row0_col1\" class=\"data row0 col1\" >0.1527</td>\n                        <td id=\"T_223b9ee8_df47_11eb_ac56_acde48001122row0_col2\" class=\"data row0 col2\" >0.0256</td>\n                        <td id=\"T_223b9ee8_df47_11eb_ac56_acde48001122row0_col3\" class=\"data row0 col3\" >0.1589</td>\n                        <td id=\"T_223b9ee8_df47_11eb_ac56_acde48001122row0_col4\" class=\"data row0 col4\" >-12.2045</td>\n                        <td id=\"T_223b9ee8_df47_11eb_ac56_acde48001122row0_col5\" class=\"data row0 col5\" >0.0525</td>\n                        <td id=\"T_223b9ee8_df47_11eb_ac56_acde48001122row0_col6\" class=\"data row0 col6\" >0.0725</td>\n                        <td id=\"T_223b9ee8_df47_11eb_ac56_acde48001122row0_col7\" class=\"data row0 col7\" >2.8800</td>\n            </tr>\n            <tr>\n                        <th id=\"T_223b9ee8_df47_11eb_ac56_acde48001122level0_row1\" class=\"row_heading level0 row1\" >lightgbm</th>\n                        <td id=\"T_223b9ee8_df47_11eb_ac56_acde48001122row1_col0\" class=\"data row1 col0\" >Light Gradient Boosting Machine</td>\n                        <td id=\"T_223b9ee8_df47_11eb_ac56_acde48001122row1_col1\" class=\"data row1 col1\" >0.1527</td>\n                        <td id=\"T_223b9ee8_df47_11eb_ac56_acde48001122row1_col2\" class=\"data row1 col2\" >0.0256</td>\n                        <td id=\"T_223b9ee8_df47_11eb_ac56_acde48001122row1_col3\" class=\"data row1 col3\" >0.1589</td>\n                        <td id=\"T_223b9ee8_df47_11eb_ac56_acde48001122row1_col4\" class=\"data row1 col4\" >-12.2045</td>\n                        <td id=\"T_223b9ee8_df47_11eb_ac56_acde48001122row1_col5\" class=\"data row1 col5\" >0.0525</td>\n                        <td id=\"T_223b9ee8_df47_11eb_ac56_acde48001122row1_col6\" class=\"data row1 col6\" >0.0725</td>\n                        <td id=\"T_223b9ee8_df47_11eb_ac56_acde48001122row1_col7\" class=\"data row1 col7\" >1.4350</td>\n            </tr>\n            <tr>\n                        <th id=\"T_223b9ee8_df47_11eb_ac56_acde48001122level0_row2\" class=\"row_heading level0 row2\" >en</th>\n                        <td id=\"T_223b9ee8_df47_11eb_ac56_acde48001122row2_col0\" class=\"data row2 col0\" >Elastic Net</td>\n                        <td id=\"T_223b9ee8_df47_11eb_ac56_acde48001122row2_col1\" class=\"data row2 col1\" >0.1897</td>\n                        <td id=\"T_223b9ee8_df47_11eb_ac56_acde48001122row2_col2\" class=\"data row2 col2\" >0.0445</td>\n                        <td id=\"T_223b9ee8_df47_11eb_ac56_acde48001122row2_col3\" class=\"data row2 col3\" >0.1985</td>\n                        <td id=\"T_223b9ee8_df47_11eb_ac56_acde48001122row2_col4\" class=\"data row2 col4\" >-24.4001</td>\n                        <td id=\"T_223b9ee8_df47_11eb_ac56_acde48001122row2_col5\" class=\"data row2 col5\" >0.0663</td>\n                        <td id=\"T_223b9ee8_df47_11eb_ac56_acde48001122row2_col6\" class=\"data row2 col6\" >0.0897</td>\n                        <td id=\"T_223b9ee8_df47_11eb_ac56_acde48001122row2_col7\" class=\"data row2 col7\" >2.3550</td>\n            </tr>\n            <tr>\n                        <th id=\"T_223b9ee8_df47_11eb_ac56_acde48001122level0_row3\" class=\"row_heading level0 row3\" >lasso</th>\n                        <td id=\"T_223b9ee8_df47_11eb_ac56_acde48001122row3_col0\" class=\"data row3 col0\" >Lasso Regression</td>\n                        <td id=\"T_223b9ee8_df47_11eb_ac56_acde48001122row3_col1\" class=\"data row3 col1\" >0.1909</td>\n                        <td id=\"T_223b9ee8_df47_11eb_ac56_acde48001122row3_col2\" class=\"data row3 col2\" >0.0426</td>\n                        <td id=\"T_223b9ee8_df47_11eb_ac56_acde48001122row3_col3\" class=\"data row3 col3\" >0.1988</td>\n                        <td id=\"T_223b9ee8_df47_11eb_ac56_acde48001122row3_col4\" class=\"data row3 col4\" >-22.9305</td>\n                        <td id=\"T_223b9ee8_df47_11eb_ac56_acde48001122row3_col5\" class=\"data row3 col5\" >0.0663</td>\n                        <td id=\"T_223b9ee8_df47_11eb_ac56_acde48001122row3_col6\" class=\"data row3 col6\" >0.0903</td>\n                        <td id=\"T_223b9ee8_df47_11eb_ac56_acde48001122row3_col7\" class=\"data row3 col7\" >2.2350</td>\n            </tr>\n            <tr>\n                        <th id=\"T_223b9ee8_df47_11eb_ac56_acde48001122level0_row4\" class=\"row_heading level0 row4\" >omp</th>\n                        <td id=\"T_223b9ee8_df47_11eb_ac56_acde48001122row4_col0\" class=\"data row4 col0\" >Orthogonal Matching Pursuit</td>\n                        <td id=\"T_223b9ee8_df47_11eb_ac56_acde48001122row4_col1\" class=\"data row4 col1\" >0.2048</td>\n                        <td id=\"T_223b9ee8_df47_11eb_ac56_acde48001122row4_col2\" class=\"data row4 col2\" >0.0525</td>\n                        <td id=\"T_223b9ee8_df47_11eb_ac56_acde48001122row4_col3\" class=\"data row4 col3\" >0.2156</td>\n                        <td id=\"T_223b9ee8_df47_11eb_ac56_acde48001122row4_col4\" class=\"data row4 col4\" >-28.9051</td>\n                        <td id=\"T_223b9ee8_df47_11eb_ac56_acde48001122row4_col5\" class=\"data row4 col5\" >0.0723</td>\n                        <td id=\"T_223b9ee8_df47_11eb_ac56_acde48001122row4_col6\" class=\"data row4 col6\" >0.0968</td>\n                        <td id=\"T_223b9ee8_df47_11eb_ac56_acde48001122row4_col7\" class=\"data row4 col7\" >1.4600</td>\n            </tr>\n            <tr>\n                        <th id=\"T_223b9ee8_df47_11eb_ac56_acde48001122level0_row5\" class=\"row_heading level0 row5\" >knn</th>\n                        <td id=\"T_223b9ee8_df47_11eb_ac56_acde48001122row5_col0\" class=\"data row5 col0\" >K Neighbors Regressor</td>\n                        <td id=\"T_223b9ee8_df47_11eb_ac56_acde48001122row5_col1\" class=\"data row5 col1\" >0.2072</td>\n                        <td id=\"T_223b9ee8_df47_11eb_ac56_acde48001122row5_col2\" class=\"data row5 col2\" >0.0600</td>\n                        <td id=\"T_223b9ee8_df47_11eb_ac56_acde48001122row5_col3\" class=\"data row5 col3\" >0.2195</td>\n                        <td id=\"T_223b9ee8_df47_11eb_ac56_acde48001122row5_col4\" class=\"data row5 col4\" >-33.8002</td>\n                        <td id=\"T_223b9ee8_df47_11eb_ac56_acde48001122row5_col5\" class=\"data row5 col5\" >0.0737</td>\n                        <td id=\"T_223b9ee8_df47_11eb_ac56_acde48001122row5_col6\" class=\"data row5 col6\" >0.0975</td>\n                        <td id=\"T_223b9ee8_df47_11eb_ac56_acde48001122row5_col7\" class=\"data row5 col7\" >2.5650</td>\n            </tr>\n            <tr>\n                        <th id=\"T_223b9ee8_df47_11eb_ac56_acde48001122level0_row6\" class=\"row_heading level0 row6\" >par</th>\n                        <td id=\"T_223b9ee8_df47_11eb_ac56_acde48001122row6_col0\" class=\"data row6 col0\" >Passive Aggressive Regressor</td>\n                        <td id=\"T_223b9ee8_df47_11eb_ac56_acde48001122row6_col1\" class=\"data row6 col1\" >0.2270</td>\n                        <td id=\"T_223b9ee8_df47_11eb_ac56_acde48001122row6_col2\" class=\"data row6 col2\" >0.0752</td>\n                        <td id=\"T_223b9ee8_df47_11eb_ac56_acde48001122row6_col3\" class=\"data row6 col3\" >0.2331</td>\n                        <td id=\"T_223b9ee8_df47_11eb_ac56_acde48001122row6_col4\" class=\"data row6 col4\" >-34.7248</td>\n                        <td id=\"T_223b9ee8_df47_11eb_ac56_acde48001122row6_col5\" class=\"data row6 col5\" >0.0797</td>\n                        <td id=\"T_223b9ee8_df47_11eb_ac56_acde48001122row6_col6\" class=\"data row6 col6\" >0.1088</td>\n                        <td id=\"T_223b9ee8_df47_11eb_ac56_acde48001122row6_col7\" class=\"data row6 col7\" >2.8350</td>\n            </tr>\n            <tr>\n                        <th id=\"T_223b9ee8_df47_11eb_ac56_acde48001122level0_row7\" class=\"row_heading level0 row7\" >ada</th>\n                        <td id=\"T_223b9ee8_df47_11eb_ac56_acde48001122row7_col0\" class=\"data row7 col0\" >AdaBoost Regressor</td>\n                        <td id=\"T_223b9ee8_df47_11eb_ac56_acde48001122row7_col1\" class=\"data row7 col1\" >0.2467</td>\n                        <td id=\"T_223b9ee8_df47_11eb_ac56_acde48001122row7_col2\" class=\"data row7 col2\" >0.1032</td>\n                        <td id=\"T_223b9ee8_df47_11eb_ac56_acde48001122row7_col3\" class=\"data row7 col3\" >0.2674</td>\n                        <td id=\"T_223b9ee8_df47_11eb_ac56_acde48001122row7_col4\" class=\"data row7 col4\" >-59.6300</td>\n                        <td id=\"T_223b9ee8_df47_11eb_ac56_acde48001122row7_col5\" class=\"data row7 col5\" >0.0924</td>\n                        <td id=\"T_223b9ee8_df47_11eb_ac56_acde48001122row7_col6\" class=\"data row7 col6\" >0.1157</td>\n                        <td id=\"T_223b9ee8_df47_11eb_ac56_acde48001122row7_col7\" class=\"data row7 col7\" >1.4250</td>\n            </tr>\n            <tr>\n                        <th id=\"T_223b9ee8_df47_11eb_ac56_acde48001122level0_row8\" class=\"row_heading level0 row8\" >rf</th>\n                        <td id=\"T_223b9ee8_df47_11eb_ac56_acde48001122row8_col0\" class=\"data row8 col0\" >Random Forest Regressor</td>\n                        <td id=\"T_223b9ee8_df47_11eb_ac56_acde48001122row8_col1\" class=\"data row8 col1\" >0.2528</td>\n                        <td id=\"T_223b9ee8_df47_11eb_ac56_acde48001122row8_col2\" class=\"data row8 col2\" >0.0963</td>\n                        <td id=\"T_223b9ee8_df47_11eb_ac56_acde48001122row8_col3\" class=\"data row8 col3\" >0.2642</td>\n                        <td id=\"T_223b9ee8_df47_11eb_ac56_acde48001122row8_col4\" class=\"data row8 col4\" >-55.4536</td>\n                        <td id=\"T_223b9ee8_df47_11eb_ac56_acde48001122row8_col5\" class=\"data row8 col5\" >0.0901</td>\n                        <td id=\"T_223b9ee8_df47_11eb_ac56_acde48001122row8_col6\" class=\"data row8 col6\" >0.1189</td>\n                        <td id=\"T_223b9ee8_df47_11eb_ac56_acde48001122row8_col7\" class=\"data row8 col7\" >1.7600</td>\n            </tr>\n            <tr>\n                        <th id=\"T_223b9ee8_df47_11eb_ac56_acde48001122level0_row9\" class=\"row_heading level0 row9\" >catboost</th>\n                        <td id=\"T_223b9ee8_df47_11eb_ac56_acde48001122row9_col0\" class=\"data row9 col0\" >CatBoost Regressor</td>\n                        <td id=\"T_223b9ee8_df47_11eb_ac56_acde48001122row9_col1\" class=\"data row9 col1\" >0.2567</td>\n                        <td id=\"T_223b9ee8_df47_11eb_ac56_acde48001122row9_col2\" class=\"data row9 col2\" >0.0993</td>\n                        <td id=\"T_223b9ee8_df47_11eb_ac56_acde48001122row9_col3\" class=\"data row9 col3\" >0.2686</td>\n                        <td id=\"T_223b9ee8_df47_11eb_ac56_acde48001122row9_col4\" class=\"data row9 col4\" >-57.1565</td>\n                        <td id=\"T_223b9ee8_df47_11eb_ac56_acde48001122row9_col5\" class=\"data row9 col5\" >0.0918</td>\n                        <td id=\"T_223b9ee8_df47_11eb_ac56_acde48001122row9_col6\" class=\"data row9 col6\" >0.1208</td>\n                        <td id=\"T_223b9ee8_df47_11eb_ac56_acde48001122row9_col7\" class=\"data row9 col7\" >0.2600</td>\n            </tr>\n            <tr>\n                        <th id=\"T_223b9ee8_df47_11eb_ac56_acde48001122level0_row10\" class=\"row_heading level0 row10\" >gbr</th>\n                        <td id=\"T_223b9ee8_df47_11eb_ac56_acde48001122row10_col0\" class=\"data row10 col0\" >Gradient Boosting Regressor</td>\n                        <td id=\"T_223b9ee8_df47_11eb_ac56_acde48001122row10_col1\" class=\"data row10 col1\" >0.2605</td>\n                        <td id=\"T_223b9ee8_df47_11eb_ac56_acde48001122row10_col2\" class=\"data row10 col2\" >0.1050</td>\n                        <td id=\"T_223b9ee8_df47_11eb_ac56_acde48001122row10_col3\" class=\"data row10 col3\" >0.2730</td>\n                        <td id=\"T_223b9ee8_df47_11eb_ac56_acde48001122row10_col4\" class=\"data row10 col4\" >-60.5830</td>\n                        <td id=\"T_223b9ee8_df47_11eb_ac56_acde48001122row10_col5\" class=\"data row10 col5\" >0.0937</td>\n                        <td id=\"T_223b9ee8_df47_11eb_ac56_acde48001122row10_col6\" class=\"data row10 col6\" >0.1225</td>\n                        <td id=\"T_223b9ee8_df47_11eb_ac56_acde48001122row10_col7\" class=\"data row10 col7\" >1.4450</td>\n            </tr>\n            <tr>\n                        <th id=\"T_223b9ee8_df47_11eb_ac56_acde48001122level0_row11\" class=\"row_heading level0 row11\" >et</th>\n                        <td id=\"T_223b9ee8_df47_11eb_ac56_acde48001122row11_col0\" class=\"data row11 col0\" >Extra Trees Regressor</td>\n                        <td id=\"T_223b9ee8_df47_11eb_ac56_acde48001122row11_col1\" class=\"data row11 col1\" >0.2674</td>\n                        <td id=\"T_223b9ee8_df47_11eb_ac56_acde48001122row11_col2\" class=\"data row11 col2\" >0.1067</td>\n                        <td id=\"T_223b9ee8_df47_11eb_ac56_acde48001122row11_col3\" class=\"data row11 col3\" >0.2792</td>\n                        <td id=\"T_223b9ee8_df47_11eb_ac56_acde48001122row11_col4\" class=\"data row11 col4\" >-61.4972</td>\n                        <td id=\"T_223b9ee8_df47_11eb_ac56_acde48001122row11_col5\" class=\"data row11 col5\" >0.0955</td>\n                        <td id=\"T_223b9ee8_df47_11eb_ac56_acde48001122row11_col6\" class=\"data row11 col6\" >0.1257</td>\n                        <td id=\"T_223b9ee8_df47_11eb_ac56_acde48001122row11_col7\" class=\"data row11 col7\" >1.7600</td>\n            </tr>\n            <tr>\n                        <th id=\"T_223b9ee8_df47_11eb_ac56_acde48001122level0_row12\" class=\"row_heading level0 row12\" >xgboost</th>\n                        <td id=\"T_223b9ee8_df47_11eb_ac56_acde48001122row12_col0\" class=\"data row12 col0\" >Extreme Gradient Boosting</td>\n                        <td id=\"T_223b9ee8_df47_11eb_ac56_acde48001122row12_col1\" class=\"data row12 col1\" >0.2712</td>\n                        <td id=\"T_223b9ee8_df47_11eb_ac56_acde48001122row12_col2\" class=\"data row12 col2\" >0.1188</td>\n                        <td id=\"T_223b9ee8_df47_11eb_ac56_acde48001122row12_col3\" class=\"data row12 col3\" >0.2898</td>\n                        <td id=\"T_223b9ee8_df47_11eb_ac56_acde48001122row12_col4\" class=\"data row12 col4\" >-68.7583</td>\n                        <td id=\"T_223b9ee8_df47_11eb_ac56_acde48001122row12_col5\" class=\"data row12 col5\" >0.1004</td>\n                        <td id=\"T_223b9ee8_df47_11eb_ac56_acde48001122row12_col6\" class=\"data row12 col6\" >0.1274</td>\n                        <td id=\"T_223b9ee8_df47_11eb_ac56_acde48001122row12_col7\" class=\"data row12 col7\" >0.2950</td>\n            </tr>\n            <tr>\n                        <th id=\"T_223b9ee8_df47_11eb_ac56_acde48001122level0_row13\" class=\"row_heading level0 row13\" >dt</th>\n                        <td id=\"T_223b9ee8_df47_11eb_ac56_acde48001122row13_col0\" class=\"data row13 col0\" >Decision Tree Regressor</td>\n                        <td id=\"T_223b9ee8_df47_11eb_ac56_acde48001122row13_col1\" class=\"data row13 col1\" >0.2734</td>\n                        <td id=\"T_223b9ee8_df47_11eb_ac56_acde48001122row13_col2\" class=\"data row13 col2\" >0.1195</td>\n                        <td id=\"T_223b9ee8_df47_11eb_ac56_acde48001122row13_col3\" class=\"data row13 col3\" >0.2905</td>\n                        <td id=\"T_223b9ee8_df47_11eb_ac56_acde48001122row13_col4\" class=\"data row13 col4\" >-69.1707</td>\n                        <td id=\"T_223b9ee8_df47_11eb_ac56_acde48001122row13_col5\" class=\"data row13 col5\" >0.1004</td>\n                        <td id=\"T_223b9ee8_df47_11eb_ac56_acde48001122row13_col6\" class=\"data row13 col6\" >0.1286</td>\n                        <td id=\"T_223b9ee8_df47_11eb_ac56_acde48001122row13_col7\" class=\"data row13 col7\" >1.4450</td>\n            </tr>\n    </tbody></table>"
     },
     "metadata": {}
    },
    {
     "output_type": "stream",
     "name": "stdout",
     "text": [
      "Transformation Pipeline and Model Succesfully Saved\n"
     ]
    }
   ],
   "source": [
    "for feature in [\"price150\", \"price300\", \"price500\"]:\n",
    "    df = get_data()\n",
    "    train(df, feature)"
   ]
  },
  {
   "source": [
    "# Conclusion and What's Next\n",
    "\n",
    "In this post, we've seen how to build a time series model for forecasting the price of heating oil. In the next post, we'll go over how to deploy these models into a StreamLit application.\n",
    "We'll also go over how the process on how the data was collected."
   ],
   "cell_type": "markdown",
   "metadata": {}
  }
 ]
}